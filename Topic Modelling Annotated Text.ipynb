{
 "cells": [
  {
   "cell_type": "code",
   "execution_count": 1,
   "metadata": {
    "collapsed": true
   },
   "outputs": [],
   "source": [
    "import pandas as pd\n",
    "import os\n",
    "import re\n",
    "import numpy as np\n",
    "from pprint import pprint\n",
    "\n",
    "# Gensim\n",
    "import gensim\n",
    "import gensim.corpora as corpora\n",
    "from gensim.utils import simple_preprocess\n",
    "from gensim.models import CoherenceModel\n",
    "\n",
    "# spacy for lemmatization\n",
    "import spacy\n",
    "\n",
    "# Plotting tools\n",
    "import pyLDAvis\n",
    "import pyLDAvis.gensim  # don't skip this\n",
    "import matplotlib.pyplot as plt\n",
    "%matplotlib inline\n",
    "\n",
    "import warnings\n",
    "warnings.filterwarnings(\"ignore\",category=DeprecationWarning)\n",
    "from nltk.corpus import stopwords"
   ]
  },
  {
   "cell_type": "code",
   "execution_count": 2,
   "metadata": {
    "collapsed": false
   },
   "outputs": [
    {
     "data": {
      "text/html": [
       "<div>\n",
       "<style scoped>\n",
       "    .dataframe tbody tr th:only-of-type {\n",
       "        vertical-align: middle;\n",
       "    }\n",
       "\n",
       "    .dataframe tbody tr th {\n",
       "        vertical-align: top;\n",
       "    }\n",
       "\n",
       "    .dataframe thead th {\n",
       "        text-align: right;\n",
       "    }\n",
       "</style>\n",
       "<table border=\"1\" class=\"dataframe\">\n",
       "  <thead>\n",
       "    <tr style=\"text-align: right;\">\n",
       "      <th></th>\n",
       "      <th>Offence</th>\n",
       "      <th>Outcome: SM</th>\n",
       "      <th>Outcome: Overall Verdict</th>\n",
       "      <th>Support</th>\n",
       "      <th>Prior case Influence</th>\n",
       "      <th>Platform</th>\n",
       "      <th>Evidence Type</th>\n",
       "      <th>Unnamed: 8</th>\n",
       "    </tr>\n",
       "    <tr>\n",
       "      <th>Case Name</th>\n",
       "      <th></th>\n",
       "      <th></th>\n",
       "      <th></th>\n",
       "      <th></th>\n",
       "      <th></th>\n",
       "      <th></th>\n",
       "      <th></th>\n",
       "      <th></th>\n",
       "    </tr>\n",
       "  </thead>\n",
       "  <tbody>\n",
       "    <tr>\n",
       "      <th>People v Wells</th>\n",
       "      <td>Murder in the second degree; criminal possessi...</td>\n",
       "      <td>However, the admission of the photographs was ...</td>\n",
       "      <td>Judgement is affirmed</td>\n",
       "      <td>We agree with the Supreme Court's determinatio...</td>\n",
       "      <td>People v Price ; People v Patterson; People v ...</td>\n",
       "      <td>Facebook; Instagram</td>\n",
       "      <td>Photographs</td>\n",
       "      <td>NaN</td>\n",
       "    </tr>\n",
       "    <tr>\n",
       "      <th>Pecile v Titan Capital Group</th>\n",
       "      <td>sexual harassment</td>\n",
       "      <td>Regarding defendants' demand for access to pla...</td>\n",
       "      <td>NaN</td>\n",
       "      <td>NaN</td>\n",
       "      <td>Tapp v New York State Urban Dev. Corp.,</td>\n",
       "      <td>Social media</td>\n",
       "      <td>Posts</td>\n",
       "      <td>NaN</td>\n",
       "    </tr>\n",
       "  </tbody>\n",
       "</table>\n",
       "</div>"
      ],
      "text/plain": [
       "                                                                        Offence  \\\n",
       "Case Name                                                                         \n",
       "People v Wells                Murder in the second degree; criminal possessi...   \n",
       "Pecile v Titan Capital Group                                  sexual harassment   \n",
       "\n",
       "                                                                    Outcome: SM  \\\n",
       "Case Name                                                                         \n",
       "People v Wells                However, the admission of the photographs was ...   \n",
       "Pecile v Titan Capital Group  Regarding defendants' demand for access to pla...   \n",
       "\n",
       "                             Outcome: Overall Verdict  \\\n",
       "Case Name                                               \n",
       "People v Wells                  Judgement is affirmed   \n",
       "Pecile v Titan Capital Group                      NaN   \n",
       "\n",
       "                                                                        Support  \\\n",
       "Case Name                                                                         \n",
       "People v Wells                We agree with the Supreme Court's determinatio...   \n",
       "Pecile v Titan Capital Group                                                NaN   \n",
       "\n",
       "                                                           Prior case Influence  \\\n",
       "Case Name                                                                         \n",
       "People v Wells                People v Price ; People v Patterson; People v ...   \n",
       "Pecile v Titan Capital Group            Tapp v New York State Urban Dev. Corp.,   \n",
       "\n",
       "                                         Platform Evidence Type Unnamed: 8  \n",
       "Case Name                                                                   \n",
       "People v Wells                Facebook; Instagram   Photographs        NaN  \n",
       "Pecile v Titan Capital Group         Social media         Posts        NaN  "
      ]
     },
     "execution_count": 2,
     "metadata": {},
     "output_type": "execute_result"
    }
   ],
   "source": [
    "# df = pd.read_csv('AnnotatedDocuments - Cases.tsv', sep='\\t')\n",
    "df = pd.read_csv('AnnotatedDocumentsMyEdits.tsv', sep='\\t')\n",
    "df.set_index('Case Name',inplace=True)\n",
    "df.head(2)"
   ]
  },
  {
   "cell_type": "code",
   "execution_count": 3,
   "metadata": {
    "collapsed": false
   },
   "outputs": [],
   "source": [
    "# df.loc[~df.index.isin(df.dropna(axis=0, how='all').index),:]"
   ]
  },
  {
   "cell_type": "code",
   "execution_count": 4,
   "metadata": {
    "collapsed": false
   },
   "outputs": [
    {
     "name": "stdout",
     "output_type": "stream",
     "text": [
      "Num cases annotated:  39\n"
     ]
    },
    {
     "data": {
      "text/plain": [
       "Offence                      1\n",
       "Outcome: SM                  7\n",
       "Outcome: Overall Verdict     3\n",
       "Support                      7\n",
       "Prior case Influence         4\n",
       "Platform                     4\n",
       "Evidence Type                5\n",
       "Unnamed: 8                  37\n",
       "dtype: int64"
      ]
     },
     "execution_count": 4,
     "metadata": {},
     "output_type": "execute_result"
    }
   ],
   "source": [
    "# does tha empty line mean anything?\n",
    "df.dropna(axis=0, how='all',inplace=True)\n",
    "print(\"Num cases annotated: \",len(df))\n",
    "df.isnull().sum()"
   ]
  },
  {
   "cell_type": "code",
   "execution_count": 5,
   "metadata": {
    "collapsed": false
   },
   "outputs": [
    {
     "name": "stdout",
     "output_type": "stream",
     "text": [
      "34 35\n"
     ]
    }
   ],
   "source": [
    "# missing(NAN)[for 8] same as unspecified?\n",
    "a= pd.DataFrame(df['Evidence Type'].str.strip().str.lower().str.split(';').dropna().tolist(), \n",
    "                index=df['Evidence Type'].str.strip().str.lower().str.split(';').dropna().index)\n",
    "for col in a.columns:\n",
    "    a[col]=a[col].str.strip()\n",
    "\n",
    "b= pd.DataFrame(df['Platform'].str.strip().str.lower().str.split(';').dropna().tolist(), \n",
    "                index=df['Platform'].str.strip().str.lower().str.split(';').dropna().index)\n",
    "for col in b.columns:\n",
    "    b[col]=b[col].str.strip()\n",
    "    \n",
    "a.columns = ['evidence_'+str(col) for col in a.columns]\n",
    "b.columns = ['platform_'+str(col) for col in b.columns]\n",
    "\n",
    "print(len(a),len(b))\n",
    "ev_plat = pd.concat([a,b], axis=1, sort=False)\n"
   ]
  },
  {
   "cell_type": "code",
   "execution_count": 6,
   "metadata": {
    "collapsed": false
   },
   "outputs": [],
   "source": [
    "# Define functions for stopwords, bigrams, trigrams and lemmatization\n",
    "def remove_stopwords(texts,stop_words):\n",
    "    return [[word for word in simple_preprocess(str(doc)) if word not in stop_words] for doc in texts]\n",
    "\n",
    "def make_bigrams(texts, bigram_mod):\n",
    "    return [bigram_mod[doc] for doc in texts]\n",
    "\n",
    "def lemmatization(texts, nlp, allowed_postags=['NOUN', 'ADJ', 'VERB', 'ADV']):\n",
    "    \"\"\"https://spacy.io/api/annotation\"\"\"\n",
    "    texts_out = []\n",
    "    for sent in texts:\n",
    "        doc = nlp(\" \".join(sent)) \n",
    "        texts_out.append([token.lemma_ for token in doc if token.pos_ in allowed_postags])\n",
    "    return texts_out\n",
    "\n",
    "def preprocess(df, custom_stopwords):\n",
    "    docs_words = []\n",
    "    for text in df.dropna():\n",
    "        docs_words.append(gensim.utils.simple_preprocess(text, deacc=True))\n",
    "        \n",
    "    stop_words = stopwords.words('english')\n",
    "    if len(custom_stopwords)>0:\n",
    "        stop_words.extend(custom_stopwords)\n",
    "    # Build the bigram and trigram models\n",
    "    bigram = gensim.models.Phrases(docs_words, min_count=5, threshold=100) # higher threshold fewer phrases. \n",
    "\n",
    "    # Faster way to get a sentence clubbed as a trigram/bigram\n",
    "    bigram_mod = gensim.models.phrases.Phraser(bigram)\n",
    "\n",
    "    # Remove Stop Words\n",
    "    docs_words_nostops = remove_stopwords(docs_words, stop_words)\n",
    "\n",
    "    # Form Bigrams\n",
    "    data_words_bigrams = make_bigrams(docs_words_nostops, bigram_mod)\n",
    "\n",
    "    # Initialize spacy 'en' model, keeping only tagger component (for efficiency)\n",
    "    # python3 -m spacy download en\n",
    "    nlp = spacy.load('en', disable=['parser', 'ner'])\n",
    "\n",
    "    # Do lemmatization keeping only noun, adj, vb, adv\n",
    "    # data_lemmatized = lemmatization(docs_words_nostops, allowed_postags=['NOUN', 'ADJ', 'VERB', 'ADV'])\n",
    "    data_lemmatized = lemmatization(data_words_bigrams, nlp, allowed_postags=['ADJ', 'VERB', 'ADV'])\n",
    "    \n",
    "    return data_lemmatized"
   ]
  },
  {
   "cell_type": "code",
   "execution_count": 42,
   "metadata": {
    "collapsed": false
   },
   "outputs": [],
   "source": [
    "df['all_text']=df['Outcome: SM']+' '+df['Support']+' '+df['Outcome: Overall Verdict']\n",
    "fb_index = ev_plat.loc[(ev_plat.platform_0=='facebook') | (ev_plat.platform_1 == 'facebook') | (ev_plat.platform_2 == 'facebook'),:].index\n",
    "mysps_index = ev_plat.loc[(ev_plat.platform_0=='myspace') | (ev_plat.platform_1 == 'myspace') | (ev_plat.platform_2 == 'myspace'),:].index\n",
    "\n",
    "clean_data = preprocess(df.loc[:,'all_text'].dropna(), [])\n",
    "clean_fb_data = preprocess(df.loc[fb_index,'all_text'].dropna(), [])\n",
    "clean_mysps_data = preprocess(df.loc[mysps_index,'all_text'].dropna(), [])\n",
    "alls = [item for sublist in clean_data for item in sublist]\n",
    "all_fb = [item for sublist in clean_fb_data for item in sublist]\n",
    "all_mysps = [item for sublist in clean_mysps_data for item in sublist]"
   ]
  },
  {
   "cell_type": "code",
   "execution_count": 43,
   "metadata": {
    "collapsed": false
   },
   "outputs": [],
   "source": [
    "from collections import Counter\n",
    "all_counts = Counter(alls)\n",
    "fb_counts = Counter(all_fb)\n",
    "mysps_counts = Counter(all_mysps)\n",
    "fb_counts.subtract(mysps_counts)"
   ]
  },
  {
   "cell_type": "code",
   "execution_count": 44,
   "metadata": {
    "collapsed": false
   },
   "outputs": [],
   "source": [
    "for k in fb_counts.keys():\n",
    "#     print(fb_counts[k],all_counts[k])\n",
    "    fb_counts[k] = fb_counts[k]/all_counts[k]"
   ]
  },
  {
   "cell_type": "code",
   "execution_count": 45,
   "metadata": {
    "collapsed": false
   },
   "outputs": [
    {
     "data": {
      "text/plain": [
       "[('adduce', -1.0),\n",
       " ('issue', -1.0),\n",
       " ('observe', -1.0),\n",
       " ('identify', -1.0),\n",
       " ('display', -1.0),\n",
       " ('several', -1.0),\n",
       " ('recognize', -1.0),\n",
       " ('examine', -1.0),\n",
       " ('appear', -1.0),\n",
       " ('blurry', -1.0),\n",
       " ('stand', -1.0),\n",
       " ('back', -1.0),\n",
       " ('random', -1.0),\n",
       " ('single', -1.0),\n",
       " ('eliminate', -1.0),\n",
       " ('suggestiveness', -1.0),\n",
       " ('suppress', -1.0),\n",
       " ('various', -1.0),\n",
       " ('fr', -1.0),\n",
       " ('deceptively', -1.0),\n",
       " ('supportive', -1.0),\n",
       " ('decline', -1.0),\n",
       " ('questionn', -1.0),\n",
       " ('feign', -1.0),\n",
       " ('voluntarily', -1.0),\n",
       " ('provide', -1.0),\n",
       " ('username', -1.0),\n",
       " ('verbally', -1.0),\n",
       " ('let', -1.0),\n",
       " ('impermissible', -1.0),\n",
       " ('fundamentally', -1.0),\n",
       " ('unfair', -1.0),\n",
       " ('deceptive', -1.0),\n",
       " ('gain', -1.0),\n",
       " ('subsequently', -1.0),\n",
       " ('review', -1.0),\n",
       " ('sign', -1.0),\n",
       " ('write', -1.0),\n",
       " ('spend', -1.0),\n",
       " ('await', -1.0),\n",
       " ('prejudicial', -1.0),\n",
       " ('unsupported', -1.0),\n",
       " ('instant', -1.0),\n",
       " ('slight', -1.0),\n",
       " ('refuse', -1.0),\n",
       " ('promise', -1.0),\n",
       " ('see', -1.0),\n",
       " ('pretty', -1.0),\n",
       " ('jog', -1.0),\n",
       " ('want', -1.0),\n",
       " ('explain', -1.0),\n",
       " ('initial', -1.0),\n",
       " ('undergo', -1.0),\n",
       " ('fit', -1.0),\n",
       " ('psychitric', -1.0),\n",
       " ('work', -1.0),\n",
       " ('alleviate', -1.0),\n",
       " ('related', -1.0),\n",
       " ('mental', -1.0),\n",
       " ('serious', -1.0),\n",
       " ('can', -1.0),\n",
       " ('not', -1.0),\n",
       " ('control', -1.0),\n",
       " ('judge', -1.0),\n",
       " ('erred', -1.0),\n",
       " ('precluding', -1.0),\n",
       " ('sexually', -1.0),\n",
       " ('provacative', -1.0),\n",
       " ('surround', -1.0),\n",
       " ('old', -1.0),\n",
       " ('fabricate', -1.0),\n",
       " ('negative', -1.0),\n",
       " ('fastidious', -1.0),\n",
       " ('vote', -1.0),\n",
       " ('previous', -1.0),\n",
       " ('probable', -1.0),\n",
       " ('register', -1.0),\n",
       " ('swear', -1.0),\n",
       " ('run', -1.0),\n",
       " ('consecutively', -1.0),\n",
       " ('evolve', -1.0),\n",
       " ('photographic', -1.0),\n",
       " ('intervene', -1.0),\n",
       " ('clarify', -1.0),\n",
       " ('confusing', -1.0),\n",
       " ('question', -1.0),\n",
       " ('good', -1.0),\n",
       " ('speculative', -1.0),\n",
       " ('unfairly', -1.0),\n",
       " ('prejudice', -1.0),\n",
       " ('place', -1.0),\n",
       " ('preclude', -1.0),\n",
       " ('confront', -1.0),\n",
       " ('exercise', -1.0),\n",
       " ('mobile', -1.0),\n",
       " ('legal', -1.0),\n",
       " ('constitutional', -1.0),\n",
       " ('unfounded', -1.0),\n",
       " ('prohibit', -1.0),\n",
       " ('broad', -1.0),\n",
       " ('reasonably', -1.0),\n",
       " ('interim', -1.0),\n",
       " ('attempt', -1.0),\n",
       " ('dispositional', -1.0),\n",
       " ('brag', -1.0),\n",
       " ('early', -1.0),\n",
       " ('adjudge', -1.0),\n",
       " ('juvenile', -1.0),\n",
       " ('delinquent', -1.0),\n",
       " ('educational', -1.0),\n",
       " ('myspace', -0.8333333333333334),\n",
       " ('reverse', -0.6),\n",
       " ('regard', -0.5),\n",
       " ('impose', -0.5),\n",
       " ('young', -0.5),\n",
       " ('postrelease', -0.5),\n",
       " ('admissible', -0.5),\n",
       " ('hear', -0.3333333333333333),\n",
       " ('new', -0.3333333333333333),\n",
       " ('give', -0.16666666666666666),\n",
       " ('include', -0.125),\n",
       " ('certain', 0.0),\n",
       " ('subject', 0.0),\n",
       " ('deny', 0.0),\n",
       " ('still', 0.0),\n",
       " ('third', 0.0),\n",
       " ('support', 0.0),\n",
       " ('claim', 0.0),\n",
       " ('thereafter', 0.0),\n",
       " ('serve', 0.0),\n",
       " ('initiate', 0.0),\n",
       " ('violate', 0.0),\n",
       " ('right', 0.0),\n",
       " ('may', 0.0),\n",
       " ('modify', 0.0),\n",
       " ('call', 0.0),\n",
       " ('create', 0.0),\n",
       " ('accept', 0.0),\n",
       " ('sentence', 0.0),\n",
       " ('suspect', 0.0),\n",
       " ('ask', 0.0),\n",
       " ('concurrently', 0.0),\n",
       " ('show', 0.0),\n",
       " ('designate', 0.0),\n",
       " ('social', 0.125),\n",
       " ('use', 0.14285714285714285),\n",
       " ('find', 0.16666666666666666),\n",
       " ('grant', 0.2),\n",
       " ('make', 0.2222222222222222),\n",
       " ('even', 0.25),\n",
       " ('agree', 0.3333333333333333),\n",
       " ('set', 0.3333333333333333),\n",
       " ('take', 0.3333333333333333),\n",
       " ('record', 0.3333333333333333),\n",
       " ('allow', 0.3333333333333333),\n",
       " ('thus', 0.3333333333333333),\n",
       " ('contend', 0.3333333333333333),\n",
       " ('remote', 0.3333333333333333),\n",
       " ('seize', 0.3333333333333333),\n",
       " ('introduce', 0.3333333333333333),\n",
       " ('oral', 0.3333333333333333),\n",
       " ('base', 0.42857142857142855),\n",
       " ('however', 0.5),\n",
       " ('grind', 0.5),\n",
       " ('criminal', 0.5),\n",
       " ('first', 0.5),\n",
       " ('obtain', 0.5),\n",
       " ('contact', 0.5),\n",
       " ('contradict', 0.5),\n",
       " ('probative', 0.5),\n",
       " ('aggregate', 0.5),\n",
       " ('go', 0.5),\n",
       " ('require', 0.5),\n",
       " ('convict', 0.6),\n",
       " ('specific', 0.6),\n",
       " ('post', 0.625),\n",
       " ('would', 0.6666666666666666),\n",
       " ('admit', 0.6666666666666666),\n",
       " ('present', 0.6666666666666666),\n",
       " ('sufficient', 0.6666666666666666),\n",
       " ('follow', 0.6666666666666666),\n",
       " ('clear', 0.6666666666666666),\n",
       " ('know', 0.75),\n",
       " ('report', 0.8),\n",
       " ('facebook', 0.9090909090909091),\n",
       " ('harmless', 1.0),\n",
       " ('overwhelm', 1.0),\n",
       " ('significant', 1.0),\n",
       " ('acquit', 1.0),\n",
       " ('supreme', 1.0),\n",
       " ('locate', 1.0),\n",
       " ('shoot', 1.0),\n",
       " ('accurately', 1.0),\n",
       " ('represent', 1.0),\n",
       " ('depict', 1.0),\n",
       " ('disagree', 1.0),\n",
       " ('fail', 1.0),\n",
       " ('accurate', 1.0),\n",
       " ('authentic', 1.0),\n",
       " ('affirm', 1.0),\n",
       " ('properly', 1.0),\n",
       " ('perceive', 1.0),\n",
       " ('reduce', 1.0),\n",
       " ('merely', 1.0),\n",
       " ('advise', 1.0),\n",
       " ('discuss', 1.0),\n",
       " ('testify', 1.0),\n",
       " ('unequivocally', 1.0),\n",
       " ('affect', 1.0),\n",
       " ('decide', 1.0),\n",
       " ('impartially', 1.0),\n",
       " ('unanimously', 1.0),\n",
       " ('concern', 1.0),\n",
       " ('argue', 1.0),\n",
       " ('complainant', 1.0),\n",
       " ('truthful', 1.0),\n",
       " ('smart', 1.0),\n",
       " ('accordingly', 1.0),\n",
       " ('exhibit', 1.0),\n",
       " ('nevertheless', 1.0),\n",
       " ('consider', 1.0),\n",
       " ('second', 1.0),\n",
       " ('aid', 1.0),\n",
       " ('actually', 1.0),\n",
       " ('deadly', 1.0),\n",
       " ('unlawfully', 1.0),\n",
       " ('legally', 1.0),\n",
       " ('also', 1.0),\n",
       " ('permit', 1.0),\n",
       " ('uploaded', 1.0),\n",
       " ('engage', 1.0),\n",
       " ('sexual', 1.0),\n",
       " ('previously', 1.0),\n",
       " ('delete', 1.0),\n",
       " ('aware', 1.0),\n",
       " ('technical', 1.0),\n",
       " ('remove', 1.0),\n",
       " ('collateral', 1.0),\n",
       " ('irrelevant', 1.0),\n",
       " ('trade', 1.0),\n",
       " ('repost', 1.0),\n",
       " ('direct', 1.0),\n",
       " ('fall', 1.0),\n",
       " ('strike', 1.0),\n",
       " ('send', 1.0),\n",
       " ('become', 1.0),\n",
       " ('constitute', 1.0),\n",
       " ('prejudiced', 1.0),\n",
       " ('public', 1.0),\n",
       " ('willful', 1.0),\n",
       " ('obey', 1.0),\n",
       " ('highlight', 1.0),\n",
       " ('agn', 1.0),\n",
       " ('clinical', 1.0),\n",
       " ('february', 1.0),\n",
       " ('harass', 1.0),\n",
       " ('annoying', 1.0),\n",
       " ('threaten', 1.0),\n",
       " ('daily', 1.0),\n",
       " ('elderly', 1.0),\n",
       " ('recommend', 1.0),\n",
       " ('former', 1.0),\n",
       " ('kill', 1.0),\n",
       " ('attack', 1.0),\n",
       " ('threatening', 1.0),\n",
       " ('never', 1.0),\n",
       " ('individual', 1.0),\n",
       " ('instead', 1.0),\n",
       " ('physical', 1.0),\n",
       " ('rely', 1.0),\n",
       " ('evidently', 1.0),\n",
       " ('qualified', 1.0),\n",
       " ('federal', 1.0),\n",
       " ('authenticate', 1.0),\n",
       " ('paticularly', 1.0),\n",
       " ('likely', 1.0),\n",
       " ('soon', 1.0),\n",
       " ('commit', 1.0),\n",
       " ('real', 1.0),\n",
       " ('fake', 1.0),\n",
       " ('undercover', 1.0),\n",
       " ('warrant', 1.0),\n",
       " ('additional', 1.0),\n",
       " ('central', 1.0),\n",
       " ('dismiss', 1.0),\n",
       " ('respond', 1.0),\n",
       " ('directly', 1.0),\n",
       " ('chief', 1.0),\n",
       " ('inform', 1.0),\n",
       " ('additionally', 1.0),\n",
       " ('bear', 1.0),\n",
       " ('acknowledge', 1.0),\n",
       " ('unchallenged', 1.0),\n",
       " ('casual', 1.0),\n",
       " ('insufficient', 1.0),\n",
       " ('establish', 1.0),\n",
       " ('reasonable', 1.0),\n",
       " ('registrer', 1.0),\n",
       " ('resident', 1.0),\n",
       " ('contrain', 1.0),\n",
       " ('tie', 1.0),\n",
       " ('tangible', 1.0),\n",
       " ('come', 1.0),\n",
       " ('forward', 1.0),\n",
       " ('count', 1.0),\n",
       " ('guilty', 1.0),\n",
       " ('remain', 1.0),\n",
       " ('physician', 1.0),\n",
       " ('put', 1.0),\n",
       " ('tell', 1.0),\n",
       " ('recover', 1.0),\n",
       " ('forego', 1.0),\n",
       " ('depraved', 1.0),\n",
       " ('indifference', 1.0),\n",
       " ('excessive', 1.0),\n",
       " ('enough', 1.0),\n",
       " ('err', 1.0),\n",
       " ('limit', 1.0),\n",
       " ('proper', 1.0),\n",
       " ('must', 1.0),\n",
       " ('prior', 1.0),\n",
       " ('state', 1.0),\n",
       " ('knew', 1.0),\n",
       " ('icone', 1.0),\n",
       " ('deplay', 1.0),\n",
       " ('next', 1.0),\n",
       " ('firsthand', 1.0),\n",
       " ('therefore', 1.0),\n",
       " ('appropriate', 1.0),\n",
       " ('possess', 1.0),\n",
       " ('digital', 1.0),\n",
       " ('secretly', 1.0),\n",
       " ('perform', 1.0),\n",
       " ('insinuate', 1.0),\n",
       " ('disseminate', 1.0),\n",
       " ('final', 1.0),\n",
       " ('local', 1.0),\n",
       " ('execute', 1.0),\n",
       " ('retrieve', 1.0),\n",
       " ('reveal', 1.0),\n",
       " ('multiple', 1.0),\n",
       " ('charge', 1.0),\n",
       " ('penal', 1.0),\n",
       " ('continue', 1.0),\n",
       " ('age', 1.0),\n",
       " ('maintain', 1.0),\n",
       " ('complaintant', 1.0),\n",
       " ('conditional', 1.0),\n",
       " ('full', 1.0),\n",
       " ('certify', 1.0),\n",
       " ('convincing', 1.0),\n",
       " ('total', 1.0)]"
      ]
     },
     "execution_count": 45,
     "metadata": {},
     "output_type": "execute_result"
    }
   ],
   "source": [
    "from operator import itemgetter\n",
    "sorted(fb_counts.items(), key=itemgetter(1))\n",
    "# ['facebook','defendant','complainant','myspace']\n",
    "# Over emphasises rare words"
   ]
  },
  {
   "cell_type": "code",
   "execution_count": null,
   "metadata": {
    "collapsed": true
   },
   "outputs": [],
   "source": [
    "from sklearn.feature_selection import chi2\n",
    "\n",
    "In [99]: labels = []\n",
    "\n",
    "In [100]: for fn in filenames:\n",
    "   .....:     label = \"Austen\" if \"Austen\" in fn else \"CBrontë\"\n",
    "   .....:     labels.append(label)\n",
    "   .....: \n",
    "\n",
    "# chi2 returns two arrays, the chi2 test statistic and an\n",
    "# array of \"p-values\", which we'll ignore\n",
    "In [101]: keyness, _ = chi2(dtm, labels)\n",
    "\n",
    "In [102]: ranking = np.argsort(keyness)[::-1]\n",
    "\n",
    "In [103]: vocab[ranking][0:10]\n",
    "Out[103]: \n",
    "array(['me', 'my', 'the', 'mr', 'mrs', 'elizabeth', 'be', 'and', 'very',\n",
    "       'every'], \n",
    "      dtype='<U20')\n",
    "\n",
    "# TODO: get dtm, calc chisq, see their differe"
   ]
  },
  {
   "cell_type": "markdown",
   "metadata": {},
   "source": [
    "## Topic Modelling - All text"
   ]
  },
  {
   "cell_type": "code",
   "execution_count": 69,
   "metadata": {
    "collapsed": false
   },
   "outputs": [],
   "source": [
    "from nltk.corpus import stopwords\n",
    "stop_words = stopwords.words('english')\n",
    "stop_words.extend(['facebook','myspace','defendant','defendent','complainant','st','paul','post','posting','evidence','court','video','photo','photograph'])\n",
    "\n",
    "# Build the bigram and trigram models\n",
    "bigram = gensim.models.Phrases(docs_words, min_count=5, threshold=100) # higher threshold fewer phrases. \n",
    "\n",
    "# Faster way to get a sentence clubbed as a trigram/bigram\n",
    "bigram_mod = gensim.models.phrases.Phraser(bigram)\n",
    "\n",
    "# Define functions for stopwords, bigrams, trigrams and lemmatization\n",
    "def remove_stopwords(texts):\n",
    "    return [[word for word in simple_preprocess(str(doc)) if word not in stop_words] for doc in texts]\n",
    "\n",
    "def make_bigrams(texts):\n",
    "    return [bigram_mod[doc] for doc in texts]\n",
    "\n",
    "# def make_trigrams(texts):\n",
    "#     return [trigram_mod[bigram_mod[doc]] for doc in texts]\n",
    "\n",
    "def lemmatization(texts, allowed_postags=['NOUN', 'ADJ', 'VERB', 'ADV']):\n",
    "    \"\"\"https://spacy.io/api/annotation\"\"\"\n",
    "    texts_out = []\n",
    "    for sent in texts:\n",
    "        doc = nlp(\" \".join(sent)) \n",
    "        texts_out.append([token.lemma_ for token in doc if token.pos_ in allowed_postags])\n",
    "    return texts_out\n",
    "\n",
    "# Remove Stop Words\n",
    "docs_words_nostops = remove_stopwords(docs_words)\n",
    "\n",
    "# Form Bigrams\n",
    "data_words_bigrams = make_bigrams(docs_words_nostops)\n",
    "\n",
    "# Initialize spacy 'en' model, keeping only tagger component (for efficiency)\n",
    "# python3 -m spacy download en\n",
    "nlp = spacy.load('en', disable=['parser', 'ner'])\n",
    "\n",
    "# Do lemmatization keeping only noun, adj, vb, adv\n",
    "# data_lemmatized = lemmatization(docs_words_nostops, allowed_postags=['NOUN', 'ADJ', 'VERB', 'ADV'])\n",
    "data_lemmatized = lemmatization(data_words_bigrams, allowed_postags=['NOUN', 'ADJ', 'VERB', 'ADV'])\n",
    "\n",
    "# Create Dictionary\n",
    "id2word = corpora.Dictionary(data_lemmatized)\n",
    "\n",
    "# Create Corpus\n",
    "texts = data_lemmatized\n",
    "\n",
    "# Term Document Frequency\n",
    "corpus = [id2word.doc2bow(text) for text in texts]"
   ]
  },
  {
   "cell_type": "code",
   "execution_count": 70,
   "metadata": {
    "collapsed": false
   },
   "outputs": [
    {
     "data": {
      "image/png": "[encoded data removed]",
      "text/plain": [
       "<Figure size 432x288 with 1 Axes>"
      ]
     },
     "metadata": {},
     "output_type": "display_data"
    }
   ],
   "source": [
    "mallet_path = '/Users/rakshitanagalla/Desktop/SSW-Legal/mallet-2.0.8/bin/mallet'\n",
    "def compute_coherence_values(dictionary, corpus, texts, limit, start=2, step=3):\n",
    "    \"\"\"\n",
    "    Compute c_v coherence for various number of topics\n",
    "    For details, refer: \n",
    "\n",
    "    Parameters:\n",
    "    ----------\n",
    "    dictionary : Gensim dictionary\n",
    "    corpus : Gensim corpus\n",
    "    texts : List of input texts\n",
    "    limit : Max num of topics\n",
    "\n",
    "    Returns:\n",
    "    -------\n",
    "    model_list : List of LDA topic models\n",
    "    coherence_values : Coherence values corresponding to the LDA model with respective number of topics\n",
    "    \"\"\"\n",
    "    coherence_values = []\n",
    "    model_list = []\n",
    "    for num_topics in range(start, limit, step):\n",
    "        model = gensim.models.wrappers.LdaMallet(mallet_path, corpus=corpus, num_topics=num_topics, id2word=dictionary)\n",
    "        model_list.append(model)\n",
    "        coherencemodel = CoherenceModel(model=model, texts=texts, dictionary=dictionary, coherence='c_v') # try 'u_mass' too\n",
    "        coherence_values.append(coherencemodel.get_coherence())\n",
    "\n",
    "    return model_list, coherence_values\n",
    "# Can take a long time to run.\n",
    "model_list, coherence_values = compute_coherence_values(dictionary=id2word, corpus=corpus, texts=data_lemmatized, start=2, limit=8, step=1)\n",
    "# Show graph\n",
    "# limit=12; start=2; step=2;\n",
    "limit=8; start=2; step=1;\n",
    "x = range(start, limit, step)\n",
    "plt.plot(x, coherence_values)\n",
    "plt.xlabel(\"Num Topics\")\n",
    "plt.ylabel(\"Coherence score\")\n",
    "plt.legend((\"coherence_values\"), loc='best')\n",
    "plt.show()"
   ]
  },
  {
   "cell_type": "code",
   "execution_count": 71,
   "metadata": {
    "collapsed": false
   },
   "outputs": [
    {
     "name": "stdout",
     "output_type": "stream",
     "text": [
      "Num Topics = 2  has Coherence Value of 0.4337\n",
      "Num Topics = 3  has Coherence Value of 0.4184\n",
      "Num Topics = 4  has Coherence Value of 0.4565\n",
      "Num Topics = 5  has Coherence Value of 0.5104\n",
      "Num Topics = 6  has Coherence Value of 0.5046\n",
      "Num Topics = 7  has Coherence Value of 0.4897\n"
     ]
    }
   ],
   "source": [
    "# Print the coherence scores\n",
    "for m, cv in zip(x, coherence_values):\n",
    "    print(\"Num Topics =\", m, \" has Coherence Value of\", round(cv, 4))"
   ]
  },
  {
   "cell_type": "code",
   "execution_count": 72,
   "metadata": {
    "collapsed": false
   },
   "outputs": [
    {
     "name": "stdout",
     "output_type": "stream",
     "text": [
      "[(0,\n",
      "  '0.060*\"photo\" + 0.046*\"account\" + 0.026*\"case\" + 0.026*\"discretion\" + '\n",
      "  '0.026*\"hearing\" + 0.020*\"girl\" + 0.020*\"support\" + 0.020*\"sex\" + '\n",
      "  '0.020*\"statement\" + 0.020*\"conduct\"'),\n",
      " (1,\n",
      "  '0.044*\"friend\" + 0.044*\"message\" + 0.029*\"motion\" + 0.029*\"juror\" + '\n",
      "  '0.029*\"admit\" + 0.029*\"sufficient\" + 0.022*\"crime\" + 0.022*\"present\" + '\n",
      "  '0.022*\"relationship\" + 0.022*\"access\"'),\n",
      " (2,\n",
      "  '0.062*\"testimony\" + 0.053*\"witness\" + 0.027*\"exhibit\" + 0.027*\"make\" + '\n",
      "  '0.027*\"consent\" + 0.027*\"akshar\" + 0.027*\"age\" + 0.027*\"complaintant\" + '\n",
      "  '0.018*\"residence\" + 0.018*\"fail\"'),\n",
      " (3,\n",
      "  '0.042*\"find\" + 0.042*\"testify\" + 0.035*\"law\" + 0.035*\"search\" + '\n",
      "  '0.028*\"trial\" + 0.028*\"warrant\" + 0.021*\"threaten\" + 0.021*\"officer\" + '\n",
      "  '0.021*\"show\" + 0.021*\"time\"'),\n",
      " (4,\n",
      "  '0.027*\"send\" + 0.027*\"record\" + 0.027*\"family\" + 0.027*\"post\" + '\n",
      "  '0.027*\"page\" + 0.020*\"violate\" + 0.020*\"staff\" + 0.020*\"photograph\" + '\n",
      "  '0.020*\"nursing\" + 0.020*\"request\"')]\n"
     ]
    }
   ],
   "source": [
    "optimal_model = model_list[3]\n",
    "# optimal_model = gensim.models.wrappers.LdaMallet(mallet_path, corpus=corpus, num_topics=5, id2word=id2word)\n",
    "model_topics = optimal_model.show_topics(formatted=False)\n",
    "pprint(optimal_model.print_topics(num_words=10))"
   ]
  },
  {
   "cell_type": "code",
   "execution_count": 73,
   "metadata": {
    "collapsed": false
   },
   "outputs": [
    {
     "name": "stdout",
     "output_type": "stream",
     "text": [
      "/var/folders/8g/1g347k696y56fdzqtj5x54cr0000gn/T/2ca244_state.mallet.gz\n",
      "[10.0, 10.0, 10.0, 10.0, 10.0], 0.01\n"
     ]
    },
    {
     "name": "stderr",
     "output_type": "stream",
     "text": [
      "//anaconda/lib/python3.6/site-packages/pyLDAvis/_prepare.py:257: FutureWarning: Sorting because non-concatenation axis is not aligned. A future version\n",
      "of pandas will change to not sort by default.\n",
      "\n",
      "To accept the future behavior, pass 'sort=False'.\n",
      "\n",
      "To retain the current behavior and silence the warning, pass 'sort=True'.\n",
      "\n",
      "  return pd.concat([default_term_info] + list(topic_dfs))\n"
     ]
    },
    {
     "data": {
      "text/html": [
       "\n",
       "<link rel=\"stylesheet\" type=\"text/css\" href=\"https://cdn.rawgit.com/bmabey/pyLDAvis/files/ldavis.v1.0.0.css\">\n",
       "\n",
       "\n",
       "<div id=\"ldavis_el224691121825197524730692203\"></div>\n",
       "<script type=\"text/javascript\">\n",
       "\n",
       "var ldavis_el224691121825197524730692203_data = {\"mdsDat\": {\"x\": [-0.28628378680907873, -0.035947691982932746, 0.2978841790105502, -0.12667318212820033, 0.1510204819096619], \"y\": [-0.01083222831853792, -0.3361792385789974, -0.07723018476783494, 0.20255949214128727, 0.22168215952408282], \"topics\": [1, 2, 3, 4, 5], \"cluster\": [1, 1, 1, 1, 1], \"Freq\": [22.158939737937065, 20.539134558285074, 20.1357646532824, 19.223852848063547, 17.942308202431914]}, \"tinfo\": {\"Category\": [\"Default\", \"Default\", \"Default\", \"Default\", \"Default\", \"Default\", \"Default\", \"Default\", \"Default\", \"Default\", \"Default\", \"Default\", \"Default\", \"Default\", \"Default\", \"Default\", \"Default\", \"Default\", \"Default\", \"Default\", \"Default\", \"Default\", \"Default\", \"Default\", \"Default\", \"Default\", \"Default\", \"Default\", \"Default\", \"Default\", \"Topic1\", \"Topic1\", \"Topic1\", \"Topic1\", \"Topic1\", \"Topic1\", \"Topic1\", \"Topic1\", \"Topic1\", \"Topic1\", \"Topic1\", \"Topic1\", \"Topic1\", \"Topic1\", \"Topic1\", \"Topic1\", \"Topic1\", \"Topic1\", \"Topic1\", \"Topic1\", \"Topic1\", \"Topic1\", \"Topic1\", \"Topic1\", \"Topic1\", \"Topic1\", \"Topic1\", \"Topic1\", \"Topic1\", \"Topic1\", \"Topic1\", \"Topic1\", \"Topic1\", \"Topic1\", \"Topic1\", \"Topic1\", \"Topic1\", \"Topic2\", \"Topic2\", \"Topic2\", \"Topic2\", \"Topic2\", \"Topic2\", \"Topic2\", \"Topic2\", \"Topic2\", \"Topic2\", \"Topic2\", \"Topic2\", \"Topic2\", \"Topic2\", \"Topic2\", \"Topic2\", \"Topic2\", \"Topic2\", \"Topic2\", \"Topic2\", \"Topic2\", \"Topic2\", \"Topic2\", \"Topic2\", \"Topic2\", \"Topic2\", \"Topic2\", \"Topic2\", \"Topic2\", \"Topic2\", \"Topic2\", \"Topic2\", \"Topic3\", \"Topic3\", \"Topic3\", \"Topic3\", \"Topic3\", \"Topic3\", \"Topic3\", \"Topic3\", \"Topic3\", \"Topic3\", \"Topic3\", \"Topic3\", \"Topic3\", \"Topic3\", \"Topic3\", \"Topic3\", \"Topic3\", \"Topic3\", \"Topic3\", \"Topic3\", \"Topic3\", \"Topic3\", \"Topic3\", \"Topic3\", \"Topic3\", \"Topic3\", \"Topic3\", \"Topic3\", \"Topic3\", \"Topic3\", \"Topic3\", \"Topic3\", \"Topic3\", \"Topic3\", \"Topic3\", \"Topic3\", \"Topic3\", \"Topic3\", \"Topic3\", \"Topic3\", \"Topic3\", \"Topic3\", \"Topic3\", \"Topic3\", \"Topic3\", \"Topic4\", \"Topic4\", \"Topic4\", \"Topic4\", \"Topic4\", \"Topic4\", \"Topic4\", \"Topic4\", \"Topic4\", \"Topic4\", \"Topic4\", \"Topic4\", \"Topic4\", \"Topic4\", \"Topic4\", \"Topic4\", \"Topic4\", \"Topic4\", \"Topic4\", \"Topic4\", \"Topic4\", \"Topic4\", \"Topic4\", \"Topic4\", \"Topic4\", \"Topic4\", \"Topic4\", \"Topic4\", \"Topic4\", \"Topic4\", \"Topic4\", \"Topic4\", \"Topic4\", \"Topic4\", \"Topic4\", \"Topic4\", \"Topic4\", \"Topic4\", \"Topic4\", \"Topic4\", \"Topic4\", \"Topic4\", \"Topic4\", \"Topic4\", \"Topic4\", \"Topic5\", \"Topic5\", \"Topic5\", \"Topic5\", \"Topic5\", \"Topic5\", \"Topic5\", \"Topic5\", \"Topic5\", \"Topic5\", \"Topic5\", \"Topic5\", \"Topic5\", \"Topic5\", \"Topic5\", \"Topic5\", \"Topic5\", \"Topic5\", \"Topic5\", \"Topic5\", \"Topic5\", \"Topic5\", \"Topic5\", \"Topic5\", \"Topic5\", \"Topic5\", \"Topic5\", \"Topic5\", \"Topic5\", \"Topic5\", \"Topic5\", \"Topic5\", \"Topic5\", \"Topic5\", \"Topic5\", \"Topic5\", \"Topic5\", \"Topic5\", \"Topic5\", \"Topic5\", \"Topic5\"], \"Freq\": [8.0, 7.0, 6.0, 6.0, 5.0, 5.0, 5.0, 5.0, 4.0, 6.0, 3.0, 3.0, 3.0, 3.0, 3.0, 3.0, 4.0, 4.0, 4.0, 4.0, 4.0, 3.0, 3.0, 3.0, 3.0, 3.0, 3.0, 3.0, 3.0, 3.0, 4.04590011620022, 4.04590011620022, 4.04590011620022, 4.04590011620022, 4.04590011620022, 3.0369474687687434, 3.0369474687687434, 3.0369474687687434, 3.0369474687687434, 3.0369474687687434, 2.027994821337267, 2.027994821337267, 2.027994821337267, 2.027994821337267, 2.027994821337267, 2.027994821337267, 2.027994821337267, 2.027994821337267, 2.027994821337267, 2.027994821337267, 2.027994821337267, 2.027994821337267, 1.0190421739057909, 1.0190421739057909, 1.0190421739057909, 1.0190421739057909, 1.0190421739057909, 1.0190421739057909, 1.0190421739057909, 1.0190421739057909, 1.0190421739057909, 1.0190421739057909, 1.0190421739057909, 1.0190421739057909, 1.0190421739057909, 1.0190421739057909, 1.0190421739057909, 8.209447449878, 6.387150568662018, 3.653705246838044, 3.653705246838044, 3.653705246838044, 2.742556806230053, 2.742556806230053, 2.742556806230053, 2.742556806230053, 2.742556806230053, 2.742556806230053, 1.831408365622062, 1.831408365622062, 1.831408365622062, 1.831408365622062, 1.831408365622062, 1.831408365622062, 1.831408365622062, 1.831408365622062, 1.831408365622062, 1.831408365622062, 1.831408365622062, 1.831408365622062, 1.831408365622062, 1.831408365622062, 1.831408365622062, 1.831408365622062, 1.831408365622062, 0.9202599250140711, 0.9202599250140711, 1.831408365622062, 0.9202599250140711, 5.69817131436444, 5.69817131436444, 4.750056287015947, 3.801941259667455, 3.801941259667455, 2.8538262323189625, 2.8538262323189625, 2.8538262323189625, 2.8538262323189625, 1.9057112049704696, 1.9057112049704696, 1.9057112049704696, 1.9057112049704696, 1.9057112049704696, 1.9057112049704696, 1.9057112049704696, 1.9057112049704696, 1.9057112049704696, 1.9057112049704696, 0.9575961776219774, 0.9575961776219774, 0.9575961776219774, 0.9575961776219774, 0.9575961776219774, 0.9575961776219774, 0.9575961776219774, 0.9575961776219774, 0.9575961776219774, 0.9575961776219774, 0.9575961776219774, 4.750056287015947, 0.9575961776219774, 0.9575961776219774, 1.9057112049704696, 0.9575961776219774, 0.9575961776219774, 1.9057112049704696, 1.9057112049704696, 0.9575961776219774, 0.9575961776219774, 0.9575961776219774, 0.9575961776219774, 0.9575961776219774, 0.9575961776219774, 0.9575961776219774, 5.6322873658071595, 5.6322873658071595, 3.7579820860044437, 3.7579820860044437, 3.7579820860044437, 3.7579820860044437, 2.8208294461030863, 2.8208294461030863, 2.8208294461030863, 2.8208294461030863, 2.8208294461030863, 1.8836768062017286, 1.8836768062017286, 1.8836768062017286, 1.8836768062017286, 1.8836768062017286, 0.9465241663003713, 0.9465241663003713, 0.9465241663003713, 0.9465241663003713, 0.9465241663003713, 0.9465241663003713, 0.9465241663003713, 0.9465241663003713, 0.9465241663003713, 0.9465241663003713, 0.9465241663003713, 0.9465241663003713, 0.9465241663003713, 0.9465241663003713, 1.8836768062017286, 0.9465241663003713, 0.9465241663003713, 0.9465241663003713, 0.9465241663003713, 0.9465241663003713, 0.9465241663003713, 0.9465241663003713, 0.9465241663003713, 0.9465241663003713, 0.9465241663003713, 0.9465241663003713, 0.9465241663003713, 0.9465241663003713, 0.9465241663003713, 7.383456741904229, 6.330181885712471, 3.1703573171371944, 3.1703573171371944, 3.1703573171371944, 3.1703573171371944, 3.1703573171371944, 3.1703573171371944, 2.1170824609454355, 2.1170824609454355, 2.1170824609454355, 2.1170824609454355, 2.1170824609454355, 2.1170824609454355, 2.1170824609454355, 2.1170824609454355, 2.1170824609454355, 1.0638076047536766, 1.0638076047536766, 1.0638076047536766, 1.0638076047536766, 1.0638076047536766, 1.0638076047536766, 1.0638076047536766, 1.0638076047536766, 1.0638076047536766, 1.0638076047536766, 1.0638076047536766, 1.0638076047536766, 1.0638076047536766, 2.1170824609454355, 1.0638076047536766, 1.0638076047536766, 1.0638076047536766, 1.0638076047536766, 2.1170824609454355, 1.0638076047536766, 1.0638076047536766, 1.0638076047536766, 1.0638076047536766, 1.0638076047536766], \"Term\": [\"photo\", \"testimony\", \"witness\", \"account\", \"friend\", \"message\", \"find\", \"testify\", \"search\", \"law\", \"motion\", \"sufficient\", \"juror\", \"admit\", \"trial\", \"warrant\", \"page\", \"send\", \"family\", \"post\", \"record\", \"hearing\", \"discretion\", \"case\", \"complaintant\", \"make\", \"akshar\", \"consent\", \"exhibit\", \"age\", \"post\", \"family\", \"page\", \"record\", \"send\", \"request\", \"photograph\", \"nursing\", \"violate\", \"staff\", \"salvage\", \"student\", \"regard\", \"harass\", \"people\", \"base\", \"order\", \"contend\", \"link\", \"attack\", \"february\", \"examination\", \"decide\", \"father\", \"partner\", \"party\", \"feign\", \"person\", \"concern\", \"computer\", \"faculty\", \"repost\", \"nurse\", \"school\", \"man\", \"sister\", \"single\", \"photo\", \"account\", \"case\", \"discretion\", \"hearing\", \"sex\", \"girl\", \"conduct\", \"statement\", \"history\", \"support\", \"mental\", \"social\", \"fall\", \"ground\", \"sign\", \"examine\", \"supreme\", \"stand\", \"give\", \"agree\", \"police\", \"determination\", \"appellant\", \"impose\", \"discuss\", \"strike\", \"seriousness\", \"mass\", \"mangan\", \"law\", \"compentency\", \"testify\", \"find\", \"search\", \"trial\", \"warrant\", \"show\", \"time\", \"officer\", \"threaten\", \"shield\", \"health\", \"gun\", \"conflict\", \"clear\", \"member\", \"shoot\", \"relative\", \"datum\", \"question\", \"entry\", \"elderly\", \"eliminate\", \"similarity\", \"employee\", \"engage\", \"guilt\", \"station\", \"explain\", \"site\", \"fact\", \"law\", \"flyer\", \"follow\", \"comment\", \"evolve\", \"format\", \"create\", \"criminal\", \"consciousness\", \"questionn\", \"knew\", \"date\", \"receive\", \"kill\", \"related\", \"message\", \"friend\", \"juror\", \"sufficient\", \"admit\", \"motion\", \"crime\", \"access\", \"relationship\", \"weight\", \"present\", \"footage\", \"inconsistent\", \"medium\", \"deed\", \"internet\", \"position\", \"proceeding\", \"matter\", \"countrary\", \"quash\", \"register\", \"state\", \"lynn\", \"commit\", \"lack\", \"knowledge\", \"recommend\", \"answer\", \"annoying\", \"counsel\", \"murder\", \"substitute\", \"smart\", \"situation\", \"early\", \"authority\", \"distribute\", \"sufficiency\", \"daughter\", \"foreperson\", \"story\", \"board\", \"boyfriend\", \"brag\", \"testimony\", \"witness\", \"complaintant\", \"akshar\", \"consent\", \"exhibit\", \"make\", \"age\", \"argue\", \"depict\", \"child\", \"posting\", \"residence\", \"seize\", \"condition\", \"upload\", \"fail\", \"observe\", \"manipulation\", \"jury\", \"introduce\", \"insult\", \"inconsistency\", \"tie\", \"impermissible\", \"system\", \"rape\", \"protest\", \"public\", \"quinn\", \"abuse\", \"registrer\", \"recant\", \"recognize\", \"resident\", \"criminal\", \"review\", \"speak\", \"set\", \"salt\", \"possession\"], \"Total\": [8.0, 7.0, 6.0, 6.0, 5.0, 5.0, 5.0, 5.0, 4.0, 6.0, 3.0, 3.0, 3.0, 3.0, 3.0, 3.0, 4.0, 4.0, 4.0, 4.0, 4.0, 3.0, 3.0, 3.0, 3.0, 3.0, 3.0, 3.0, 3.0, 3.0, 4.084397025840716, 4.084397025840716, 4.084397025840716, 4.084397025840716, 4.084397025840716, 3.0754443784092396, 3.0754443784092396, 3.0754443784092396, 3.0754443784092396, 3.0754443784092396, 2.0664917309777633, 2.0664917309777633, 2.0664917309777633, 2.0664917309777633, 2.0664917309777633, 2.0664917309777633, 2.0664917309777633, 2.0664917309777633, 2.0664917309777633, 2.0664917309777633, 2.0664917309777633, 2.0664917309777633, 1.0575390835462868, 1.0575390835462868, 1.0575390835462868, 1.0575390835462868, 1.0575390835462868, 1.0575390835462868, 1.0575390835462868, 1.0575390835462868, 1.0575390835462868, 1.0575390835462868, 1.0575390835462868, 1.0575390835462868, 1.0575390835462868, 1.9686875241542778, 1.0575390835462868, 8.248922401586732, 6.42662552037075, 3.693180198546775, 3.693180198546775, 3.693180198546775, 2.7820317579387837, 2.7820317579387837, 2.7820317579387837, 2.7820317579387837, 2.7820317579387837, 2.7820317579387837, 1.8708833173307928, 1.8708833173307928, 1.8708833173307928, 1.8708833173307928, 1.8708833173307928, 1.8708833173307928, 1.8708833173307928, 1.8708833173307928, 1.8708833173307928, 1.8708833173307928, 1.8708833173307928, 1.8708833173307928, 1.8708833173307928, 1.8708833173307928, 1.8708833173307928, 1.8708833173307928, 1.8708833173307928, 0.9597348767228019, 0.9597348767228019, 6.611458454073255, 0.9597348767228019, 5.7372766002057665, 5.7372766002057665, 4.789161572857274, 3.8410465455087808, 3.8410465455087808, 2.8929315181602884, 2.8929315181602884, 2.8929315181602884, 2.8929315181602884, 1.9448164908117953, 1.9448164908117953, 1.9448164908117953, 1.9448164908117953, 1.9448164908117953, 1.9448164908117953, 1.9448164908117953, 1.9448164908117953, 1.9448164908117953, 1.9448164908117953, 0.9967014634633032, 0.9967014634633032, 0.9967014634633032, 0.9967014634633032, 0.9967014634633032, 0.9967014634633032, 0.9967014634633032, 0.9967014634633032, 0.9967014634633032, 0.9967014634633032, 0.9967014634633032, 6.611458454073255, 0.9967014634633032, 0.9967014634633032, 2.855964931419787, 0.9967014634633032, 0.9967014634633032, 2.9980913470035544, 4.051366203195313, 0.9967014634633032, 0.9967014634633032, 0.9967014634633032, 0.9967014634633032, 0.9967014634633032, 0.9967014634633032, 1.9078499040712942, 5.671502275522957, 5.671502275522957, 3.797196995720241, 3.797196995720241, 3.797196995720241, 3.797196995720241, 2.8600443558188835, 2.8600443558188835, 2.8600443558188835, 2.8600443558188835, 2.8600443558188835, 1.9228917159175258, 1.9228917159175258, 1.9228917159175258, 1.9228917159175258, 1.9228917159175258, 0.9857390760161684, 0.9857390760161684, 0.9857390760161684, 0.9857390760161684, 0.9857390760161684, 0.9857390760161684, 0.9857390760161684, 0.9857390760161684, 0.9857390760161684, 0.9857390760161684, 0.9857390760161684, 0.9857390760161684, 0.9857390760161684, 0.9857390760161684, 2.976166572109285, 0.9857390760161684, 0.9857390760161684, 0.9857390760161684, 0.9857390760161684, 0.9857390760161684, 1.9338541033646608, 0.9857390760161684, 1.9946917234476447, 0.9857390760161684, 0.9857390760161684, 1.8968875166241597, 0.9857390760161684, 0.9857390760161684, 0.9857390760161684, 7.421510429457123, 6.368235573265364, 3.2084110046900873, 3.2084110046900873, 3.2084110046900873, 3.2084110046900873, 3.2084110046900873, 3.2084110046900873, 2.155136148498329, 2.155136148498329, 2.155136148498329, 2.155136148498329, 2.155136148498329, 2.155136148498329, 2.155136148498329, 2.155136148498329, 2.155136148498329, 1.1018612923065698, 1.1018612923065698, 1.1018612923065698, 1.1018612923065698, 1.1018612923065698, 1.1018612923065698, 1.1018612923065698, 1.1018612923065698, 1.1018612923065698, 1.1018612923065698, 1.1018612923065698, 1.1018612923065698, 1.1018612923065698, 3.1032511758468213, 1.1018612923065698, 1.1018612923065698, 1.1018612923065698, 1.1018612923065698, 4.051366203195313, 1.1018612923065698, 1.1018612923065698, 1.1018612923065698, 1.1018612923065698, 2.0390139322079275], \"loglift\": [30.0, 29.0, 28.0, 27.0, 26.0, 25.0, 24.0, 23.0, 22.0, 21.0, 20.0, 19.0, 18.0, 17.0, 16.0, 15.0, 14.0, 13.0, 12.0, 11.0, 10.0, 9.0, 8.0, 7.0, 6.0, 5.0, 4.0, 3.0, 2.0, 1.0, 1.4975, 1.4975, 1.4975, 1.4975, 1.4975, 1.4943, 1.4943, 1.4943, 1.4943, 1.4943, 1.4881, 1.4881, 1.4881, 1.4881, 1.4881, 1.4881, 1.4881, 1.4881, 1.4881, 1.4881, 1.4881, 1.4881, 1.4698, 1.4698, 1.4698, 1.4698, 1.4698, 1.4698, 1.4698, 1.4698, 1.4698, 1.4698, 1.4698, 1.4698, 1.4698, 0.8484, 1.4698, 1.578, 1.5767, 1.5721, 1.5721, 1.5721, 1.5685, 1.5685, 1.5685, 1.5685, 1.5685, 1.5685, 1.5615, 1.5615, 1.5615, 1.5615, 1.5615, 1.5615, 1.5615, 1.5615, 1.5615, 1.5615, 1.5615, 1.5615, 1.5615, 1.5615, 1.5615, 1.5615, 1.5615, 1.5408, 1.5408, 0.2991, 1.5408, 1.5958, 1.5958, 1.5945, 1.5924, 1.5924, 1.5891, 1.5891, 1.5891, 1.5891, 1.5824, 1.5824, 1.5824, 1.5824, 1.5824, 1.5824, 1.5824, 1.5824, 1.5824, 1.5824, 1.5626, 1.5626, 1.5626, 1.5626, 1.5626, 1.5626, 1.5626, 1.5626, 1.5626, 1.5626, 1.5626, 1.272, 1.5626, 1.5626, 1.1981, 1.5626, 1.5626, 1.1496, 0.8485, 1.5626, 1.5626, 1.5626, 1.5626, 1.5626, 1.5626, 0.9134, 1.6421, 1.6421, 1.6386, 1.6386, 1.6386, 1.6386, 1.6352, 1.6352, 1.6352, 1.6352, 1.6352, 1.6284, 1.6284, 1.6284, 1.6284, 1.6284, 1.6084, 1.6084, 1.6084, 1.6084, 1.6084, 1.6084, 1.6084, 1.6084, 1.6084, 1.6084, 1.6084, 1.6084, 1.6084, 1.6084, 1.1916, 1.6084, 1.6084, 1.6084, 1.6084, 1.6084, 0.9345, 1.6084, 0.9036, 1.6084, 1.6084, 0.9538, 1.6084, 1.6084, 1.6084, 1.7129, 1.712, 1.7061, 1.7061, 1.7061, 1.7061, 1.7061, 1.7061, 1.7002, 1.7002, 1.7002, 1.7002, 1.7002, 1.7002, 1.7002, 1.7002, 1.7002, 1.6829, 1.6829, 1.6829, 1.6829, 1.6829, 1.6829, 1.6829, 1.6829, 1.6829, 1.6829, 1.6829, 1.6829, 1.6829, 1.3356, 1.6829, 1.6829, 1.6829, 1.6829, 1.069, 1.6829, 1.6829, 1.6829, 1.6829, 1.0674], \"logprob\": [30.0, 29.0, 28.0, 27.0, 26.0, 25.0, 24.0, 23.0, 22.0, 21.0, 20.0, 19.0, 18.0, 17.0, 16.0, 15.0, 14.0, 13.0, 12.0, 11.0, 10.0, 9.0, 8.0, 7.0, 6.0, 5.0, 4.0, 3.0, 2.0, 1.0, -3.6321, -3.6321, -3.6321, -3.6321, -3.6321, -3.9189, -3.9189, -3.9189, -3.9189, -3.9189, -4.3227, -4.3227, -4.3227, -4.3227, -4.3227, -4.3227, -4.3227, -4.3227, -4.3227, -4.3227, -4.3227, -4.3227, -5.0109, -5.0109, -5.0109, -5.0109, -5.0109, -5.0109, -5.0109, -5.0109, -5.0109, -5.0109, -5.0109, -5.0109, -5.0109, -5.0109, -5.0109, -2.8486, -3.0996, -3.6581, -3.6581, -3.6581, -3.945, -3.945, -3.945, -3.945, -3.945, -3.945, -4.3488, -4.3488, -4.3488, -4.3488, -4.3488, -4.3488, -4.3488, -4.3488, -4.3488, -4.3488, -4.3488, -4.3488, -4.3488, -4.3488, -4.3488, -4.3488, -4.3488, -5.037, -5.037, -4.3488, -5.037, -3.1939, -3.1939, -3.3759, -3.5985, -3.5985, -3.8854, -3.8854, -3.8854, -3.8854, -4.2892, -4.2892, -4.2892, -4.2892, -4.2892, -4.2892, -4.2892, -4.2892, -4.2892, -4.2892, -4.9773, -4.9773, -4.9773, -4.9773, -4.9773, -4.9773, -4.9773, -4.9773, -4.9773, -4.9773, -4.9773, -3.3759, -4.9773, -4.9773, -4.2892, -4.9773, -4.9773, -4.2892, -4.2892, -4.9773, -4.9773, -4.9773, -4.9773, -4.9773, -4.9773, -4.9773, -3.1592, -3.1592, -3.5638, -3.5638, -3.5638, -3.5638, -3.8506, -3.8506, -3.8506, -3.8506, -3.8506, -4.2544, -4.2544, -4.2544, -4.2544, -4.2544, -4.9426, -4.9426, -4.9426, -4.9426, -4.9426, -4.9426, -4.9426, -4.9426, -4.9426, -4.9426, -4.9426, -4.9426, -4.9426, -4.9426, -4.2544, -4.9426, -4.9426, -4.9426, -4.9426, -4.9426, -4.9426, -4.9426, -4.9426, -4.9426, -4.9426, -4.9426, -4.9426, -4.9426, -4.9426, -2.8194, -2.9734, -3.6648, -3.6648, -3.6648, -3.6648, -3.6648, -3.6648, -4.0686, -4.0686, -4.0686, -4.0686, -4.0686, -4.0686, -4.0686, -4.0686, -4.0686, -4.7568, -4.7568, -4.7568, -4.7568, -4.7568, -4.7568, -4.7568, -4.7568, -4.7568, -4.7568, -4.7568, -4.7568, -4.7568, -4.0686, -4.7568, -4.7568, -4.7568, -4.7568, -4.0686, -4.7568, -4.7568, -4.7568, -4.7568, -4.7568]}, \"token.table\": {\"Topic\": [3, 5, 4, 2, 4, 5, 2, 5, 4, 4, 2, 5, 1, 3, 4, 1, 4, 4, 4, 2, 5, 3, 2, 3, 4, 2, 5, 1, 1, 5, 2, 3, 3, 5, 1, 4, 5, 4, 3, 5, 4, 3, 5, 3, 3, 4, 1, 4, 5, 2, 2, 2, 4, 4, 3, 3, 3, 3, 3, 3, 1, 2, 5, 3, 3, 1, 5, 2, 1, 1, 1, 1, 3, 3, 3, 4, 4, 3, 4, 2, 2, 2, 3, 3, 1, 3, 2, 2, 5, 2, 5, 4, 5, 4, 5, 4, 5, 3, 3, 4, 4, 2, 3, 1, 4, 5, 1, 2, 5, 2, 4, 4, 3, 2, 4, 4, 4, 1, 1, 5, 3, 1, 1, 1, 1, 1, 1, 2, 1, 2, 4, 4, 5, 1, 5, 4, 4, 5, 5, 4, 3, 3, 5, 5, 5, 3, 5, 4, 1, 1, 4, 5, 2, 3, 4, 3, 1, 1, 5, 5, 5, 5, 1, 1, 3, 5, 1, 2, 5, 2, 3, 3, 3, 2, 3, 1, 1, 2, 3, 4, 4, 2, 5, 1, 2, 4, 2, 3, 2, 4, 2, 1, 4, 1, 4, 4, 2, 2, 5, 3, 5, 3, 5, 3, 3, 5, 1, 3, 4, 5], \"Freq\": [0.32224268785691124, 0.6444853757138225, 1.0489347809925993, 0.9336159359187094, 1.0534086075882645, 0.9350422983883829, 1.0690137548788554, 0.9350422983883829, 1.0144672401965302, 1.0144672401965302, 1.0690137548788554, 0.9280156158085763, 0.9678238581935662, 0.5171020907213874, 0.5171020907213874, 0.9678238581935662, 1.0144672401965302, 1.0144672401965302, 1.0144672401965302, 1.0830773980576294, 0.9280156158085763, 1.028374661284968, 0.35014435541506095, 0.7002887108301219, 1.0144672401965302, 1.041954423303539, 0.9350422983883829, 0.9455915299571352, 0.9455915299571352, 0.9280156158085763, 1.0783485815498777, 1.028374661284968, 1.0033094528879642, 0.9350422983883829, 0.9678238581935662, 0.672005397393651, 0.3360026986968255, 1.0144672401965302, 0.6670910817973916, 0.3335455408986958, 1.0489347809925993, 0.49366063191784537, 0.49366063191784537, 1.0033094528879642, 1.028374661284968, 1.0144672401965302, 0.9455915299571352, 1.0401001696789156, 0.9280156158085763, 1.0690137548788554, 1.0830773980576294, 1.0690137548788554, 1.0144672401965302, 1.0144672401965302, 1.0033094528879642, 1.0033094528879642, 1.0033094528879642, 1.0033094528879642, 1.0033094528879642, 1.0033094528879642, 0.9678238581935662, 1.0690137548788554, 0.9350422983883829, 1.0033094528879642, 1.0033094528879642, 0.9455915299571352, 0.9280156158085763, 1.0690137548788554, 0.979336723313928, 0.9455915299571352, 0.9678238581935662, 0.9455915299571352, 1.045792353777193, 1.0033094528879642, 1.0033094528879642, 1.0401001696789156, 1.0144672401965302, 1.0033094528879642, 1.0579207604120644, 1.0783485815498777, 1.0690137548788554, 1.0690137548788554, 1.0033094528879642, 1.028374661284968, 0.9678238581935662, 1.028374661284968, 1.0830773980576294, 1.0783485815498777, 0.9075552494512812, 1.0690137548788554, 0.9075552494512812, 1.0401001696789156, 0.9075552494512812, 1.0401001696789156, 0.9075552494512812, 1.0534086075882645, 0.9075552494512812, 1.0033094528879642, 1.0033094528879642, 1.0144672401965302, 1.0144672401965302, 0.3025051150049683, 0.7562627875124207, 0.9678238581935662, 1.0144672401965302, 0.9350422983883829, 0.9455915299571352, 1.041954423303539, 0.9075552494512812, 1.041954423303539, 1.0144672401965302, 1.0401001696789156, 1.028374661284968, 1.0690137548788554, 1.0579207604120644, 1.0534086075882645, 1.0144672401965302, 0.9455915299571352, 0.9754687878802533, 0.9075552494512812, 1.037010375519639, 0.9678238581935662, 0.979336723313928, 0.9455915299571352, 0.9455915299571352, 0.9678238581935662, 0.9455915299571352, 0.9698236461117817, 0.9754687878802533, 1.0690137548788554, 1.0144672401965302, 0.4904331374122389, 0.4904331374122389, 0.979336723313928, 0.9280156158085763, 1.0489347809925993, 1.0144672401965302, 0.9075552494512812, 0.9075552494512812, 1.0144672401965302, 1.028374661284968, 1.0033094528879642, 0.9075552494512812, 0.9075552494512812, 0.9075552494512812, 1.0033094528879642, 0.9075552494512812, 1.0144672401965302, 0.979336723313928, 0.9678238581935662, 1.0144672401965302, 0.9075552494512812, 0.5241502478082947, 0.5241502478082947, 1.0489347809925993, 1.028374661284968, 0.9455915299571352, 0.9754687878802533, 0.9280156158085763, 0.9075552494512812, 0.9075552494512812, 0.9075552494512812, 0.9678238581935662, 0.9455915299571352, 1.0440240789405937, 0.9280156158085763, 0.979336723313928, 1.0690137548788554, 0.9075552494512812, 1.0783485815498777, 1.028374661284968, 1.028374661284968, 1.037010375519639, 1.0690137548788554, 1.0033094528879642, 0.9455915299571352, 0.5079526271847468, 0.5079526271847468, 1.0033094528879642, 1.0144672401965302, 1.0144672401965302, 1.0690137548788554, 0.9075552494512812, 0.9754687878802533, 1.0690137548788554, 1.0144672401965302, 1.0783485815498777, 1.0033094528879642, 0.5271793879373899, 0.5271793879373899, 1.0690137548788554, 0.9678238581935662, 1.0144672401965302, 0.5013306007364338, 0.5013306007364338, 1.0534086075882645, 1.0783485815498777, 1.0690137548788554, 0.9075552494512812, 1.045792353777193, 0.9432042259505447, 1.037010375519639, 0.9075552494512812, 1.037010375519639, 1.04138285037891, 0.9280156158085763, 0.9754687878802533, 1.04138285037891, 1.0489347809925993, 0.9421762010797367], \"Term\": [\"abuse\", \"abuse\", \"access\", \"account\", \"admit\", \"age\", \"agree\", \"akshar\", \"annoying\", \"answer\", \"appellant\", \"argue\", \"attack\", \"authority\", \"authority\", \"base\", \"board\", \"boyfriend\", \"brag\", \"case\", \"child\", \"clear\", \"comment\", \"comment\", \"commit\", \"compentency\", \"complaintant\", \"computer\", \"concern\", \"condition\", \"conduct\", \"conflict\", \"consciousness\", \"consent\", \"contend\", \"counsel\", \"counsel\", \"countrary\", \"create\", \"create\", \"crime\", \"criminal\", \"criminal\", \"date\", \"datum\", \"daughter\", \"decide\", \"deed\", \"depict\", \"determination\", \"discretion\", \"discuss\", \"distribute\", \"early\", \"elderly\", \"eliminate\", \"employee\", \"engage\", \"entry\", \"evolve\", \"examination\", \"examine\", \"exhibit\", \"explain\", \"fact\", \"faculty\", \"fail\", \"fall\", \"family\", \"father\", \"february\", \"feign\", \"find\", \"flyer\", \"follow\", \"footage\", \"foreperson\", \"format\", \"friend\", \"girl\", \"give\", \"ground\", \"guilt\", \"gun\", \"harass\", \"health\", \"hearing\", \"history\", \"impermissible\", \"impose\", \"inconsistency\", \"inconsistent\", \"insult\", \"internet\", \"introduce\", \"juror\", \"jury\", \"kill\", \"knew\", \"knowledge\", \"lack\", \"law\", \"law\", \"link\", \"lynn\", \"make\", \"man\", \"mangan\", \"manipulation\", \"mass\", \"matter\", \"medium\", \"member\", \"mental\", \"message\", \"motion\", \"murder\", \"nurse\", \"nursing\", \"observe\", \"officer\", \"order\", \"page\", \"partner\", \"party\", \"people\", \"person\", \"photo\", \"photograph\", \"police\", \"position\", \"possession\", \"possession\", \"post\", \"posting\", \"present\", \"proceeding\", \"protest\", \"public\", \"quash\", \"question\", \"questionn\", \"quinn\", \"rape\", \"recant\", \"receive\", \"recognize\", \"recommend\", \"record\", \"regard\", \"register\", \"registrer\", \"related\", \"related\", \"relationship\", \"relative\", \"repost\", \"request\", \"residence\", \"resident\", \"review\", \"salt\", \"salvage\", \"school\", \"search\", \"seize\", \"send\", \"seriousness\", \"set\", \"sex\", \"shield\", \"shoot\", \"show\", \"sign\", \"similarity\", \"single\", \"sister\", \"sister\", \"site\", \"situation\", \"smart\", \"social\", \"speak\", \"staff\", \"stand\", \"state\", \"statement\", \"station\", \"story\", \"story\", \"strike\", \"student\", \"substitute\", \"sufficiency\", \"sufficiency\", \"sufficient\", \"support\", \"supreme\", \"system\", \"testify\", \"testimony\", \"threaten\", \"tie\", \"time\", \"trial\", \"upload\", \"violate\", \"warrant\", \"weight\", \"witness\"]}, \"R\": 30, \"lambda.step\": 0.01, \"plot.opts\": {\"xlab\": \"PC1\", \"ylab\": \"PC2\"}, \"topic.order\": [5, 1, 4, 2, 3]};\n",
       "\n",
       "function LDAvis_load_lib(url, callback){\n",
       "  var s = document.createElement('script');\n",
       "  s.src = url;\n",
       "  s.async = true;\n",
       "  s.onreadystatechange = s.onload = callback;\n",
       "  s.onerror = function(){console.warn(\"failed to load library \" + url);};\n",
       "  document.getElementsByTagName(\"head\")[0].appendChild(s);\n",
       "}\n",
       "\n",
       "if(typeof(LDAvis) !== \"undefined\"){\n",
       "   // already loaded: just create the visualization\n",
       "   !function(LDAvis){\n",
       "       new LDAvis(\"#\" + \"ldavis_el224691121825197524730692203\", ldavis_el224691121825197524730692203_data);\n",
       "   }(LDAvis);\n",
       "}else if(typeof define === \"function\" && define.amd){\n",
       "   // require.js is available: use it to load d3/LDAvis\n",
       "   require.config({paths: {d3: \"https://cdnjs.cloudflare.com/ajax/libs/d3/3.5.5/d3.min\"}});\n",
       "   require([\"d3\"], function(d3){\n",
       "      window.d3 = d3;\n",
       "      LDAvis_load_lib(\"https://cdn.rawgit.com/bmabey/pyLDAvis/files/ldavis.v1.0.0.js\", function(){\n",
       "        new LDAvis(\"#\" + \"ldavis_el224691121825197524730692203\", ldavis_el224691121825197524730692203_data);\n",
       "      });\n",
       "    });\n",
       "}else{\n",
       "    // require.js not available: dynamically load d3 & LDAvis\n",
       "    LDAvis_load_lib(\"https://cdnjs.cloudflare.com/ajax/libs/d3/3.5.5/d3.min.js\", function(){\n",
       "         LDAvis_load_lib(\"https://cdn.rawgit.com/bmabey/pyLDAvis/files/ldavis.v1.0.0.js\", function(){\n",
       "                 new LDAvis(\"#\" + \"ldavis_el224691121825197524730692203\", ldavis_el224691121825197524730692203_data);\n",
       "            })\n",
       "         });\n",
       "}\n",
       "</script>"
      ],
      "text/plain": [
       "<IPython.core.display.HTML object>"
      ]
     },
     "execution_count": 73,
     "metadata": {},
     "output_type": "execute_result"
    }
   ],
   "source": [
    "state_file = optimal_model.fstate()\n",
    "print(state_file)\n",
    "from process_pyldaviz import get_pyldaviz\n",
    "lda_prop = get_pyldaviz(state_file)\n",
    "vis_data = pyLDAvis.prepare(**lda_prop)\n",
    "pyLDAvis.display(vis_data)"
   ]
  },
  {
   "cell_type": "code",
   "execution_count": null,
   "metadata": {
    "collapsed": true
   },
   "outputs": [],
   "source": [
    "pyLDAvis.save_html(vis_data,'support.html')"
   ]
  },
  {
   "cell_type": "markdown",
   "metadata": {},
   "source": [
    "## Outcome: SM"
   ]
  },
  {
   "cell_type": "code",
   "execution_count": 74,
   "metadata": {
    "collapsed": false
   },
   "outputs": [
    {
     "data": {
      "text/plain": [
       "Index(['Offence', 'Outcome: SM', 'Outcome: Overall Verdict', 'Support',\n",
       "       'Prior case Influence', 'Platform', 'Evidence Type', 'Unnamed: 8'],\n",
       "      dtype='object')"
      ]
     },
     "execution_count": 74,
     "metadata": {},
     "output_type": "execute_result"
    }
   ],
   "source": [
    "df.columns"
   ]
  },
  {
   "cell_type": "code",
   "execution_count": 75,
   "metadata": {
    "collapsed": false
   },
   "outputs": [
    {
     "data": {
      "text/plain": [
       "31"
      ]
     },
     "execution_count": 75,
     "metadata": {},
     "output_type": "execute_result"
    }
   ],
   "source": [
    "# what is SORA?\n",
    "import gensim\n",
    "docs_words = []\n",
    "for text in df['Outcome: SM'].dropna():\n",
    "    docs_words.append(gensim.utils.simple_preprocess(text, deacc=True))\n",
    "ids_outcome = df['Outcome: SM'].dropna().index\n",
    "len(docs_words)"
   ]
  },
  {
   "cell_type": "code",
   "execution_count": 84,
   "metadata": {
    "collapsed": true
   },
   "outputs": [],
   "source": [
    "from nltk.corpus import stopwords\n",
    "stop_words = stopwords.words('english')\n",
    "stop_words.extend(['facebook','myspace','defendant','defendent','complainant'])\n",
    "\n",
    "# Build the bigram and trigram models\n",
    "bigram = gensim.models.Phrases(docs_words, min_count=5, threshold=100) # higher threshold fewer phrases. \n",
    "\n",
    "# Faster way to get a sentence clubbed as a trigram/bigram\n",
    "bigram_mod = gensim.models.phrases.Phraser(bigram)\n",
    "\n",
    "# Define functions for stopwords, bigrams, trigrams and lemmatization\n",
    "def remove_stopwords(texts):\n",
    "    return [[word for word in simple_preprocess(str(doc)) if word not in stop_words] for doc in texts]\n",
    "\n",
    "def make_bigrams(texts):\n",
    "    return [bigram_mod[doc] for doc in texts]\n",
    "\n",
    "# def make_trigrams(texts):\n",
    "#     return [trigram_mod[bigram_mod[doc]] for doc in texts]\n",
    "\n",
    "def lemmatization(texts, allowed_postags=['NOUN', 'ADJ', 'VERB', 'ADV']):\n",
    "    \"\"\"https://spacy.io/api/annotation\"\"\"\n",
    "    texts_out = []\n",
    "    for sent in texts:\n",
    "        doc = nlp(\" \".join(sent)) \n",
    "        texts_out.append([token.lemma_ for token in doc if token.pos_ in allowed_postags])\n",
    "    return texts_out\n",
    "\n",
    "# Remove Stop Words\n",
    "docs_words_nostops = remove_stopwords(docs_words)\n",
    "\n",
    "# Form Bigrams\n",
    "data_words_bigrams = make_bigrams(docs_words_nostops)\n",
    "\n",
    "# Initialize spacy 'en' model, keeping only tagger component (for efficiency)\n",
    "# python3 -m spacy download en\n",
    "nlp = spacy.load('en', disable=['parser', 'ner'])\n",
    "\n",
    "# Do lemmatization keeping only noun, adj, vb, adv\n",
    "# data_lemmatized = lemmatization(docs_words_nostops, allowed_postags=['NOUN', 'ADJ', 'VERB', 'ADV'])\n",
    "data_lemmatized = lemmatization(data_words_bigrams, allowed_postags=['NOUN', 'ADJ', 'VERB', 'ADV'])\n",
    "\n",
    "# Create Dictionary\n",
    "id2word = corpora.Dictionary(data_lemmatized)\n",
    "\n",
    "# Create Corpus\n",
    "texts = data_lemmatized\n",
    "\n",
    "# Term Document Frequency\n",
    "corpus = [id2word.doc2bow(text) for text in texts]"
   ]
  },
  {
   "cell_type": "code",
   "execution_count": 85,
   "metadata": {
    "collapsed": false
   },
   "outputs": [
    {
     "data": {
      "image/png": "[encoded data removed]",
      "text/plain": [
       "<Figure size 432x288 with 1 Axes>"
      ]
     },
     "metadata": {},
     "output_type": "display_data"
    }
   ],
   "source": [
    "mallet_path = '/Users/rakshitanagalla/Desktop/SSW-Legal/mallet-2.0.8/bin/mallet'\n",
    "def compute_coherence_values(dictionary, corpus, texts, limit, start=2, step=3):\n",
    "    \"\"\"\n",
    "    Compute c_v coherence for various number of topics\n",
    "    For details, refer: \n",
    "\n",
    "    Parameters:\n",
    "    ----------\n",
    "    dictionary : Gensim dictionary\n",
    "    corpus : Gensim corpus\n",
    "    texts : List of input texts\n",
    "    limit : Max num of topics\n",
    "\n",
    "    Returns:\n",
    "    -------\n",
    "    model_list : List of LDA topic models\n",
    "    coherence_values : Coherence values corresponding to the LDA model with respective number of topics\n",
    "    \"\"\"\n",
    "    coherence_values = []\n",
    "    model_list = []\n",
    "    for num_topics in range(start, limit, step):\n",
    "        model = gensim.models.wrappers.LdaMallet(mallet_path, corpus=corpus, num_topics=num_topics, id2word=dictionary)\n",
    "        model_list.append(model)\n",
    "        coherencemodel = CoherenceModel(model=model, texts=texts, dictionary=dictionary, coherence='c_v') # try 'u_mass' too\n",
    "        coherence_values.append(coherencemodel.get_coherence())\n",
    "\n",
    "    return model_list, coherence_values\n",
    "# Can take a long time to run.\n",
    "model_list, coherence_values = compute_coherence_values(dictionary=id2word, corpus=corpus, texts=data_lemmatized, start=2, limit=8, step=1)\n",
    "# Show graph\n",
    "# limit=12; start=2; step=2;\n",
    "limit=8; start=2; step=1;\n",
    "x = range(start, limit, step)\n",
    "plt.plot(x, coherence_values)\n",
    "plt.xlabel(\"Num Topics\")\n",
    "plt.ylabel(\"Coherence score\")\n",
    "plt.legend((\"coherence_values\"), loc='best')\n",
    "plt.show()"
   ]
  },
  {
   "cell_type": "code",
   "execution_count": 86,
   "metadata": {
    "collapsed": false
   },
   "outputs": [
    {
     "name": "stdout",
     "output_type": "stream",
     "text": [
      "Num Topics = 2  has Coherence Value of 0.2546\n",
      "Num Topics = 3  has Coherence Value of 0.3788\n",
      "Num Topics = 4  has Coherence Value of 0.2892\n",
      "Num Topics = 5  has Coherence Value of 0.3771\n",
      "Num Topics = 6  has Coherence Value of 0.4439\n",
      "Num Topics = 7  has Coherence Value of 0.4351\n"
     ]
    }
   ],
   "source": [
    "# Print the coherence scores\n",
    "for m, cv in zip(x, coherence_values):\n",
    "    print(\"Num Topics =\", m, \" has Coherence Value of\", round(cv, 4))"
   ]
  },
  {
   "cell_type": "code",
   "execution_count": 87,
   "metadata": {
    "collapsed": false
   },
   "outputs": [
    {
     "name": "stdout",
     "output_type": "stream",
     "text": [
      "[(0,\n",
      "  '0.091*\"video\" + 0.080*\"victim\" + 0.057*\"include\" + 0.034*\"basis\" + '\n",
      "  '0.034*\"record\" + 0.034*\"base\" + 0.023*\"paragraph\" + 0.023*\"social\" + '\n",
      "  '0.023*\"local\" + 0.023*\"victm\"'),\n",
      " (1,\n",
      "  '0.064*\"motion\" + 0.064*\"juror\" + 0.038*\"instruction\" + 0.038*\"obtain\" + '\n",
      "  '0.026*\"issue\" + 0.026*\"rule\" + 0.026*\"website\" + 0.026*\"admit\" + '\n",
      "  '0.026*\"stipulation\" + 0.026*\"photograph\"'),\n",
      " (2,\n",
      "  '0.067*\"post\" + 0.067*\"claim\" + 0.038*\"support\" + 0.029*\"order\" + '\n",
      "  '0.029*\"site\" + 0.029*\"child\" + 0.029*\"page\" + 0.029*\"employee\" + '\n",
      "  '0.029*\"student\" + 0.029*\"staff\"'),\n",
      " (3,\n",
      "  '0.086*\"court\" + 0.049*\"deny\" + 0.049*\"medium\" + 0.049*\"give\" + 0.037*\"gang\" '\n",
      "  '+ 0.037*\"plaintiff\" + 0.037*\"people\" + 0.037*\"specific\" + 0.025*\"federal\" + '\n",
      "  '0.025*\"fail\"'),\n",
      " (4,\n",
      "  '0.079*\"message\" + 0.067*\"witness\" + 0.056*\"photograph\" + 0.045*\"account\" + '\n",
      "  '0.034*\"police\" + 0.034*\"sex\" + 0.034*\"charge\" + 0.022*\"hearing\" + '\n",
      "  '0.022*\"failure\" + 0.022*\"uploaded\"'),\n",
      " (5,\n",
      "  '0.163*\"evidence\" + 0.054*\"social\" + 0.043*\"access\" + 0.043*\"make\" + '\n",
      "  '0.033*\"testimony\" + 0.033*\"permit\" + 0.022*\"affiliation\" + 0.022*\"regard\" + '\n",
      "  '0.022*\"paul\" + 0.022*\"oral\"')]\n"
     ]
    }
   ],
   "source": [
    "optimal_model = model_list[4]\n",
    "# optimal_model = gensim.models.wrappers.LdaMallet(mallet_path, corpus=corpus, num_topics=6, id2word=id2word)\n",
    "model_topics = optimal_model.show_topics(formatted=False)\n",
    "pprint(optimal_model.print_topics(num_words=10))"
   ]
  },
  {
   "cell_type": "code",
   "execution_count": 88,
   "metadata": {
    "collapsed": false
   },
   "outputs": [
    {
     "name": "stdout",
     "output_type": "stream",
     "text": [
      "/var/folders/8g/1g347k696y56fdzqtj5x54cr0000gn/T/4a84ed_state.mallet.gz\n",
      "[8.333333333333334, 8.333333333333334, 8.333333333333334, 8.333333333333334, 8.333333333333334, 8.333333333333334], 0.01\n"
     ]
    },
    {
     "name": "stderr",
     "output_type": "stream",
     "text": [
      "//anaconda/lib/python3.6/site-packages/pyLDAvis/_prepare.py:257: FutureWarning: Sorting because non-concatenation axis is not aligned. A future version\n",
      "of pandas will change to not sort by default.\n",
      "\n",
      "To accept the future behavior, pass 'sort=False'.\n",
      "\n",
      "To retain the current behavior and silence the warning, pass 'sort=True'.\n",
      "\n",
      "  return pd.concat([default_term_info] + list(topic_dfs))\n"
     ]
    },
    {
     "data": {
      "text/html": [
       "\n",
       "<link rel=\"stylesheet\" type=\"text/css\" href=\"https://cdn.rawgit.com/bmabey/pyLDAvis/files/ldavis.v1.0.0.css\">\n",
       "\n",
       "\n",
       "<div id=\"ldavis_el224691122505969529500518410\"></div>\n",
       "<script type=\"text/javascript\">\n",
       "\n",
       "var ldavis_el224691122505969529500518410_data = {\"mdsDat\": {\"x\": [0.08390434780995207, -0.16014716933292572, -0.25759609269423, 0.26902555749078755, -0.1259621187966129, 0.19077547552302884], \"y\": [-0.3733250134685374, 0.16791144237216254, 0.040531912969864664, 0.11078657810630407, -0.09007633239943254, 0.14417141241963885], \"topics\": [1, 2, 3, 4, 5, 6], \"cluster\": [1, 1, 1, 1, 1, 1], \"Freq\": [17.464855968631124, 17.031136532845554, 16.792372419754244, 16.699474872775, 16.20596829951182, 15.806191906482262]}, \"tinfo\": {\"Category\": [\"Default\", \"Default\", \"Default\", \"Default\", \"Default\", \"Default\", \"Default\", \"Default\", \"Default\", \"Default\", \"Default\", \"Default\", \"Default\", \"Default\", \"Default\", \"Default\", \"Default\", \"Default\", \"Default\", \"Default\", \"Default\", \"Default\", \"Default\", \"Default\", \"Default\", \"Default\", \"Default\", \"Default\", \"Default\", \"Default\", \"Topic1\", \"Topic1\", \"Topic1\", \"Topic1\", \"Topic1\", \"Topic1\", \"Topic1\", \"Topic1\", \"Topic1\", \"Topic1\", \"Topic1\", \"Topic1\", \"Topic1\", \"Topic1\", \"Topic1\", \"Topic1\", \"Topic1\", \"Topic1\", \"Topic1\", \"Topic1\", \"Topic1\", \"Topic1\", \"Topic1\", \"Topic1\", \"Topic1\", \"Topic1\", \"Topic1\", \"Topic1\", \"Topic1\", \"Topic1\", \"Topic1\", \"Topic1\", \"Topic1\", \"Topic1\", \"Topic1\", \"Topic1\", \"Topic1\", \"Topic1\", \"Topic1\", \"Topic1\", \"Topic1\", \"Topic1\", \"Topic2\", \"Topic2\", \"Topic2\", \"Topic2\", \"Topic2\", \"Topic2\", \"Topic2\", \"Topic2\", \"Topic2\", \"Topic2\", \"Topic2\", \"Topic2\", \"Topic2\", \"Topic2\", \"Topic2\", \"Topic2\", \"Topic2\", \"Topic2\", \"Topic2\", \"Topic2\", \"Topic2\", \"Topic2\", \"Topic2\", \"Topic2\", \"Topic2\", \"Topic2\", \"Topic2\", \"Topic2\", \"Topic2\", \"Topic2\", \"Topic2\", \"Topic2\", \"Topic2\", \"Topic2\", \"Topic2\", \"Topic2\", \"Topic2\", \"Topic2\", \"Topic2\", \"Topic2\", \"Topic3\", \"Topic3\", \"Topic3\", \"Topic3\", \"Topic3\", \"Topic3\", \"Topic3\", \"Topic3\", \"Topic3\", \"Topic3\", \"Topic3\", \"Topic3\", \"Topic3\", \"Topic3\", \"Topic3\", \"Topic3\", \"Topic3\", \"Topic3\", \"Topic3\", \"Topic3\", \"Topic3\", \"Topic3\", \"Topic3\", \"Topic3\", \"Topic3\", \"Topic3\", \"Topic3\", \"Topic3\", \"Topic3\", \"Topic3\", \"Topic3\", \"Topic3\", \"Topic3\", \"Topic3\", \"Topic3\", \"Topic3\", \"Topic3\", \"Topic3\", \"Topic3\", \"Topic3\", \"Topic4\", \"Topic4\", \"Topic4\", \"Topic4\", \"Topic4\", \"Topic4\", \"Topic4\", \"Topic4\", \"Topic4\", \"Topic4\", \"Topic4\", \"Topic4\", \"Topic4\", \"Topic4\", \"Topic4\", \"Topic4\", \"Topic4\", \"Topic4\", \"Topic4\", \"Topic4\", \"Topic4\", \"Topic4\", \"Topic4\", \"Topic4\", \"Topic4\", \"Topic4\", \"Topic4\", \"Topic4\", \"Topic4\", \"Topic4\", \"Topic4\", \"Topic4\", \"Topic4\", \"Topic4\", \"Topic4\", \"Topic4\", \"Topic4\", \"Topic4\", \"Topic4\", \"Topic5\", \"Topic5\", \"Topic5\", \"Topic5\", \"Topic5\", \"Topic5\", \"Topic5\", \"Topic5\", \"Topic5\", \"Topic5\", \"Topic5\", \"Topic5\", \"Topic5\", \"Topic5\", \"Topic5\", \"Topic5\", \"Topic5\", \"Topic5\", \"Topic5\", \"Topic5\", \"Topic5\", \"Topic5\", \"Topic5\", \"Topic5\", \"Topic5\", \"Topic5\", \"Topic5\", \"Topic5\", \"Topic5\", \"Topic5\", \"Topic5\", \"Topic5\", \"Topic5\", \"Topic5\", \"Topic5\", \"Topic5\", \"Topic5\", \"Topic5\", \"Topic5\", \"Topic5\", \"Topic5\", \"Topic5\", \"Topic5\", \"Topic5\", \"Topic6\", \"Topic6\", \"Topic6\", \"Topic6\", \"Topic6\", \"Topic6\", \"Topic6\", \"Topic6\", \"Topic6\", \"Topic6\", \"Topic6\", \"Topic6\", \"Topic6\", \"Topic6\", \"Topic6\", \"Topic6\", \"Topic6\", \"Topic6\", \"Topic6\", \"Topic6\", \"Topic6\", \"Topic6\", \"Topic6\", \"Topic6\", \"Topic6\", \"Topic6\", \"Topic6\", \"Topic6\", \"Topic6\", \"Topic6\", \"Topic6\", \"Topic6\", \"Topic6\", \"Topic6\", \"Topic6\", \"Topic6\", \"Topic6\", \"Topic6\", \"Topic6\", \"Topic6\", \"Topic6\", \"Topic6\", \"Topic6\"], \"Freq\": [14.0, 8.0, 7.0, 6.0, 8.0, 6.0, 6.0, 5.0, 5.0, 5.0, 5.0, 6.0, 6.0, 4.0, 4.0, 3.0, 5.0, 3.0, 3.0, 3.0, 3.0, 3.0, 3.0, 3.0, 3.0, 3.0, 3.0, 3.0, 3.0, 2.0, 6.028126124829119, 6.028126124829119, 3.448328924474289, 2.5883965243560128, 2.5883965243560128, 2.5883965243560128, 2.5883965243560128, 2.5883965243560128, 2.5883965243560128, 2.5883965243560128, 2.5883965243560128, 1.7284641242377359, 1.7284641242377359, 1.7284641242377359, 0.8685317241194594, 0.8685317241194594, 0.8685317241194594, 0.8685317241194594, 0.8685317241194594, 0.8685317241194594, 0.8685317241194594, 0.8685317241194594, 0.8685317241194594, 0.8685317241194594, 0.8685317241194594, 0.8685317241194594, 0.8685317241194594, 0.8685317241194594, 0.8685317241194594, 0.8685317241194594, 1.7284641242377359, 0.8685317241194594, 0.8685317241194594, 0.8685317241194594, 0.8685317241194594, 0.8685317241194594, 0.8685317241194594, 0.8685317241194594, 0.8685317241194594, 0.8685317241194594, 0.8685317241194594, 0.8685317241194594, 7.968388179043665, 6.973583162933346, 4.983973130712704, 2.9943630984920637, 2.9943630984920637, 2.9943630984920637, 1.9995580823817436, 1.9995580823817436, 1.9995580823817436, 1.9995580823817436, 1.0047530662714235, 1.0047530662714235, 1.0047530662714235, 1.0047530662714235, 1.0047530662714235, 1.0047530662714235, 1.0047530662714235, 1.0047530662714235, 1.0047530662714235, 1.0047530662714235, 1.0047530662714235, 1.0047530662714235, 1.0047530662714235, 1.0047530662714235, 1.0047530662714235, 1.0047530662714235, 1.0047530662714235, 1.0047530662714235, 1.0047530662714235, 1.0047530662714235, 1.9995580823817436, 1.0047530662714235, 1.0047530662714235, 1.0047530662714235, 1.0047530662714235, 1.0047530662714235, 1.0047530662714235, 1.0047530662714235, 1.0047530662714235, 1.0047530662714235, 14.104411636843244, 3.7680673326942973, 3.7680673326942973, 2.828399668680757, 2.828399668680757, 1.8887320046672165, 1.8887320046672165, 1.8887320046672165, 1.8887320046672165, 1.8887320046672165, 0.9490643406536761, 0.9490643406536761, 0.9490643406536761, 0.9490643406536761, 0.9490643406536761, 0.9490643406536761, 0.9490643406536761, 0.9490643406536761, 0.9490643406536761, 0.9490643406536761, 0.9490643406536761, 0.9490643406536761, 0.9490643406536761, 0.9490643406536761, 0.9490643406536761, 0.9490643406536761, 0.9490643406536761, 0.9490643406536761, 0.9490643406536761, 0.9490643406536761, 4.707734996707838, 1.8887320046672165, 1.8887320046672165, 0.9490643406536761, 0.9490643406536761, 0.9490643406536761, 0.9490643406536761, 0.9490643406536761, 0.9490643406536761, 0.9490643406536761, 6.7636584229154595, 5.798799874710686, 3.86908277830114, 2.9042242300963665, 2.9042242300963665, 2.9042242300963665, 1.9393656818915936, 1.9393656818915936, 1.9393656818915936, 1.9393656818915936, 1.9393656818915936, 0.9745071336868207, 0.9745071336868207, 0.9745071336868207, 0.9745071336868207, 0.9745071336868207, 0.9745071336868207, 0.9745071336868207, 0.9745071336868207, 0.9745071336868207, 0.9745071336868207, 0.9745071336868207, 0.9745071336868207, 0.9745071336868207, 0.9745071336868207, 0.9745071336868207, 0.9745071336868207, 0.9745071336868207, 0.9745071336868207, 0.9745071336868207, 4.833941326505912, 0.9745071336868207, 0.9745071336868207, 0.9745071336868207, 0.9745071336868207, 0.9745071336868207, 0.9745071336868207, 0.9745071336868207, 0.9745071336868207, 4.111276228557323, 4.111276228557323, 3.086020311211357, 3.086020311211357, 3.086020311211357, 3.086020311211357, 2.0607643938653912, 1.0355084765194258, 1.0355084765194258, 1.0355084765194258, 1.0355084765194258, 1.0355084765194258, 1.0355084765194258, 1.0355084765194258, 1.0355084765194258, 1.0355084765194258, 1.0355084765194258, 1.0355084765194258, 1.0355084765194258, 1.0355084765194258, 1.0355084765194258, 1.0355084765194258, 1.0355084765194258, 1.0355084765194258, 1.0355084765194258, 1.0355084765194258, 1.0355084765194258, 1.0355084765194258, 1.0355084765194258, 1.0355084765194258, 7.187043980595222, 1.0355084765194258, 1.0355084765194258, 1.0355084765194258, 1.0355084765194258, 1.0355084765194258, 1.0355084765194258, 1.0355084765194258, 1.0355084765194258, 1.0355084765194258, 4.111276228557323, 2.0607643938653912, 1.0355084765194258, 1.0355084765194258, 5.194799807216816, 5.194799807216816, 3.1210274290863507, 3.1210274290863507, 2.0841412400211174, 2.0841412400211174, 2.0841412400211174, 2.0841412400211174, 1.0472550509558851, 1.0472550509558851, 1.0472550509558851, 1.0472550509558851, 1.0472550509558851, 1.0472550509558851, 1.0472550509558851, 1.0472550509558851, 1.0472550509558851, 1.0472550509558851, 1.0472550509558851, 1.0472550509558851, 1.0472550509558851, 1.0472550509558851, 1.0472550509558851, 1.0472550509558851, 1.0472550509558851, 1.0472550509558851, 1.0472550509558851, 1.0472550509558851, 1.0472550509558851, 1.0472550509558851, 2.0841412400211174, 2.0841412400211174, 1.0472550509558851, 1.0472550509558851, 1.0472550509558851, 1.0472550509558851, 1.0472550509558851, 1.0472550509558851, 1.0472550509558851, 1.0472550509558851, 1.0472550509558851, 1.0472550509558851, 1.0472550509558851], \"Term\": [\"evidence\", \"video\", \"victim\", \"message\", \"court\", \"post\", \"claim\", \"witness\", \"motion\", \"juror\", \"include\", \"photograph\", \"social\", \"give\", \"medium\", \"account\", \"deny\", \"make\", \"access\", \"support\", \"instruction\", \"obtain\", \"plaintiff\", \"people\", \"specific\", \"gang\", \"base\", \"basis\", \"record\", \"police\", \"claim\", \"post\", \"support\", \"order\", \"page\", \"communication\", \"employee\", \"site\", \"staff\", \"student\", \"child\", \"public\", \"government\", \"constitute\", \"motif\", \"interest\", \"earth\", \"collateral\", \"choice\", \"send\", \"prohibit\", \"multiple\", \"controversy\", \"generalize\", \"responsbilitie\", \"funeral\", \"offender\", \"criminal\", \"provide\", \"death\", \"faculty\", \"put\", \"reasonable\", \"degree\", \"foundation\", \"reduce\", \"prejudicial\", \"properly\", \"history\", \"proper\", \"contact\", \"request\", \"video\", \"victim\", \"include\", \"base\", \"record\", \"basis\", \"guilt\", \"paragraph\", \"victm\", \"local\", \"business\", \"cpl\", \"chief\", \"ci\", \"circumstance\", \"roommate\", \"reverse\", \"retrieve\", \"conviction\", \"county\", \"accept\", \"disclosure\", \"deceptively\", \"proof\", \"bear\", \"discredit\", \"dismiss\", \"preliminary\", \"possess\", \"event\", \"social\", \"burden\", \"contradict\", \"qualified\", \"question\", \"rely\", \"report\", \"search\", \"procedure\", \"information\", \"evidence\", \"access\", \"make\", \"testimony\", \"permit\", \"prosecutor\", \"daughter\", \"affiliation\", \"possession\", \"paul\", \"burearu\", \"overwhelm\", \"evidently\", \"stop\", \"offer\", \"office\", \"reveal\", \"clothing\", \"discoverable\", \"network\", \"show\", \"final\", \"examine\", \"set\", \"execute\", \"sergeant\", \"person\", \"coutns\", \"supportive\", \"testify\", \"social\", \"oral\", \"regard\", \"properly\", \"sexual\", \"deny\", \"march\", \"depraved\", \"remove\", \"remote\", \"message\", \"witness\", \"account\", \"charge\", \"police\", \"sex\", \"hearing\", \"counsel\", \"failure\", \"uploaded\", \"inform\", \"respond\", \"relationship\", \"recover\", \"revise\", \"prejudiced\", \"intercourse\", \"additionally\", \"physician\", \"akshar\", \"secretly\", \"limine\", \"justice\", \"jurisdiction\", \"internet\", \"prejudice\", \"attire\", \"amazing\", \"friend\", \"forward\", \"photograph\", \"collection\", \"posting\", \"information\", \"remote\", \"misconduct\", \"proper\", \"line\", \"faith\", \"medium\", \"give\", \"gang\", \"plaintiff\", \"specific\", \"people\", \"federal\", \"officer\", \"sentence\", \"availability\", \"serf\", \"negative\", \"series\", \"behavior\", \"bedroom\", \"insinuate\", \"emotional\", \"legally\", \"campus\", \"limit\", \"speculative\", \"erred\", \"defense\", \"camera\", \"inquiry\", \"primate\", \"accusation\", \"contend\", \"publicaly\", \"forego\", \"court\", \"sexually\", \"defendant\", \"decline\", \"preclude\", \"remedy\", \"refuse\", \"probability\", \"profile\", \"confronting\", \"deny\", \"fail\", \"request\", \"regard\", \"motion\", \"juror\", \"obtain\", \"instruction\", \"admit\", \"stipulation\", \"rule\", \"issue\", \"lack\", \"assistance\", \"attorney\", \"slight\", \"indifference\", \"case\", \"character\", \"directly\", \"fr\", \"surround\", \"clarify\", \"easy\", \"conduct\", \"confusing\", \"convict\", \"probable\", \"distress\", \"previously\", \"delete\", \"perform\", \"digital\", \"impact\", \"website\", \"photograph\", \"report\", \"murder\", \"misconduct\", \"computer\", \"direct\", \"line\", \"farrad\", \"search\", \"rely\", \"contact\", \"contradict\"], \"Total\": [14.0, 8.0, 7.0, 6.0, 8.0, 6.0, 6.0, 5.0, 5.0, 5.0, 5.0, 6.0, 6.0, 4.0, 4.0, 3.0, 5.0, 3.0, 3.0, 3.0, 3.0, 3.0, 3.0, 3.0, 3.0, 3.0, 3.0, 3.0, 3.0, 2.0, 6.077740858176518, 6.077740858176518, 3.497943657821687, 2.6380112577034107, 2.6380112577034107, 2.6380112577034107, 2.6380112577034107, 2.6380112577034107, 2.6380112577034107, 2.6380112577034107, 2.6380112577034107, 1.7780788575851343, 1.7780788575851343, 1.7780788575851343, 0.9181464574668579, 0.9181464574668579, 0.9181464574668579, 0.9181464574668579, 0.9181464574668579, 0.9181464574668579, 0.9181464574668579, 0.9181464574668579, 0.9181464574668579, 0.9181464574668579, 0.9181464574668579, 0.9181464574668579, 0.9181464574668579, 0.9181464574668579, 0.9181464574668579, 0.9181464574668579, 2.742937405789907, 0.9181464574668579, 0.9181464574668579, 0.9181464574668579, 0.9181464574668579, 0.9181464574668579, 0.9181464574668579, 1.8578141214803985, 0.9181464574668579, 1.8830050056716308, 1.9550326465320906, 1.943402374812824, 8.016654186231143, 7.021849170120824, 5.0322391379001825, 3.042629105679541, 3.042629105679541, 3.042629105679541, 2.047824089569221, 2.047824089569221, 2.047824089569221, 2.047824089569221, 1.0530190734589016, 1.0530190734589016, 1.0530190734589016, 1.0530190734589016, 1.0530190734589016, 1.0530190734589016, 1.0530190734589016, 1.0530190734589016, 1.0530190734589016, 1.0530190734589016, 1.0530190734589016, 1.0530190734589016, 1.0530190734589016, 1.0530190734589016, 1.0530190734589016, 1.0530190734589016, 1.0530190734589016, 1.0530190734589016, 1.0530190734589016, 1.0530190734589016, 6.746162409636924, 1.0530190734589016, 2.0899052625241343, 1.0530190734589016, 2.0782749908048674, 2.0899052625241343, 2.0899052625241343, 2.0899052625241343, 1.9926867374724422, 2.0178776216636742, 14.15322901755169, 3.8168847134027426, 3.8168847134027426, 2.8772170493892024, 2.8772170493892024, 1.9375493853756622, 1.9375493853756622, 1.9375493853756622, 1.9375493853756622, 1.9375493853756622, 0.9978817213621217, 0.9978817213621217, 0.9978817213621217, 0.9978817213621217, 0.9978817213621217, 0.9978817213621217, 0.9978817213621217, 0.9978817213621217, 0.9978817213621217, 0.9978817213621217, 0.9978817213621217, 0.9978817213621217, 0.9978817213621217, 0.9978817213621217, 0.9978817213621217, 0.9978817213621217, 0.9978817213621217, 0.9978817213621217, 0.9978817213621217, 0.9978817213621217, 6.746162409636924, 2.932354401485982, 2.962805302721628, 1.8578141214803985, 1.9926867374724422, 5.098905390745985, 0.9978817213621217, 0.9978817213621217, 0.9978817213621217, 1.9627402695668947, 6.812223894781993, 5.847365346577219, 3.9176482501676735, 2.9527897019629, 2.9527897019629, 2.9527897019629, 1.987931153758127, 1.987931153758127, 1.987931153758127, 1.987931153758127, 1.987931153758127, 1.023072605553354, 1.023072605553354, 1.023072605553354, 1.023072605553354, 1.023072605553354, 1.023072605553354, 1.023072605553354, 1.023072605553354, 1.023072605553354, 1.023072605553354, 1.023072605553354, 1.023072605553354, 1.023072605553354, 1.023072605553354, 1.023072605553354, 1.023072605553354, 1.023072605553354, 1.023072605553354, 1.023072605553354, 6.956279176502911, 1.023072605553354, 2.0178776216636742, 2.0178776216636742, 1.9627402695668947, 2.059958794618587, 1.8830050056716308, 2.059958794618587, 1.023072605553354, 4.159237726732444, 4.159237726732444, 3.1339818093864786, 3.1339818093864786, 3.1339818093864786, 3.1339818093864786, 2.1087258920405128, 1.0834699746945473, 1.0834699746945473, 1.0834699746945473, 1.0834699746945473, 1.0834699746945473, 1.0834699746945473, 1.0834699746945473, 1.0834699746945473, 1.0834699746945473, 1.0834699746945473, 1.0834699746945473, 1.0834699746945473, 1.0834699746945473, 1.0834699746945473, 1.0834699746945473, 1.0834699746945473, 1.0834699746945473, 1.0834699746945473, 1.0834699746945473, 1.0834699746945473, 1.0834699746945473, 1.0834699746945473, 1.0834699746945473, 8.229810494880665, 1.0834699746945473, 1.0834699746945473, 1.0834699746945473, 1.0834699746945473, 1.0834699746945473, 1.0834699746945473, 1.0834699746945473, 1.0834699746945473, 1.0834699746945473, 5.098905390745985, 3.0735844402452854, 1.943402374812824, 2.962805302721628, 5.242645002674744, 5.242645002674744, 3.1688726245442793, 3.1688726245442793, 2.131986435479046, 2.131986435479046, 2.131986435479046, 2.131986435479046, 1.095100246413814, 1.095100246413814, 1.095100246413814, 1.095100246413814, 1.095100246413814, 1.095100246413814, 1.095100246413814, 1.095100246413814, 1.095100246413814, 1.095100246413814, 1.095100246413814, 1.095100246413814, 1.095100246413814, 1.095100246413814, 1.095100246413814, 1.095100246413814, 1.095100246413814, 1.095100246413814, 1.095100246413814, 1.095100246413814, 1.095100246413814, 1.095100246413814, 3.0716540994925867, 6.956279176502911, 2.0899052625241343, 1.9550326465320906, 2.059958794618587, 2.059958794618587, 1.095100246413814, 2.059958794618587, 1.095100246413814, 2.0899052625241343, 2.0899052625241343, 1.9550326465320906, 2.0899052625241343], \"loglift\": [30.0, 29.0, 28.0, 27.0, 26.0, 25.0, 24.0, 23.0, 22.0, 21.0, 20.0, 19.0, 18.0, 17.0, 16.0, 15.0, 14.0, 13.0, 12.0, 11.0, 10.0, 9.0, 8.0, 7.0, 6.0, 5.0, 4.0, 3.0, 2.0, 1.0, 1.7368, 1.7368, 1.7307, 1.726, 1.726, 1.726, 1.726, 1.726, 1.726, 1.726, 1.726, 1.7167, 1.7167, 1.7167, 1.6894, 1.6894, 1.6894, 1.6894, 1.6894, 1.6894, 1.6894, 1.6894, 1.6894, 1.6894, 1.6894, 1.6894, 1.6894, 1.6894, 1.6894, 1.6894, 1.2832, 1.6894, 1.6894, 1.6894, 1.6894, 1.6894, 1.6894, 0.9846, 1.6894, 0.9712, 0.9336, 0.9396, 1.7641, 1.7632, 1.7605, 1.7541, 1.7541, 1.7541, 1.7463, 1.7463, 1.7463, 1.7463, 1.7232, 1.7232, 1.7232, 1.7232, 1.7232, 1.7232, 1.7232, 1.7232, 1.7232, 1.7232, 1.7232, 1.7232, 1.7232, 1.7232, 1.7232, 1.7232, 1.7232, 1.7232, 1.7232, 1.7232, 0.5541, 1.7232, 1.0378, 1.7232, 1.0433, 1.0378, 1.0378, 1.0378, 1.0854, 1.0728, 1.7808, 1.7714, 1.7714, 1.7671, 1.7671, 1.7587, 1.7587, 1.7587, 1.7587, 1.7587, 1.7341, 1.7341, 1.7341, 1.7341, 1.7341, 1.7341, 1.7341, 1.7341, 1.7341, 1.7341, 1.7341, 1.7341, 1.7341, 1.7341, 1.7341, 1.7341, 1.7341, 1.7341, 1.7341, 1.7341, 1.4245, 1.3443, 1.334, 1.1126, 1.0425, 0.1029, 1.7341, 1.7341, 1.7341, 1.0576, 1.7826, 1.7815, 1.7773, 1.7732, 1.7732, 1.7732, 1.7651, 1.7651, 1.7651, 1.7651, 1.7651, 1.7412, 1.7412, 1.7412, 1.7412, 1.7412, 1.7412, 1.7412, 1.7412, 1.7412, 1.7412, 1.7412, 1.7412, 1.7412, 1.7412, 1.7412, 1.7412, 1.7412, 1.7412, 1.7412, 1.4258, 1.7412, 1.0619, 1.0619, 1.0896, 1.0413, 1.1311, 1.0413, 1.7412, 1.8082, 1.8082, 1.8044, 1.8044, 1.8044, 1.8044, 1.7968, 1.7745, 1.7745, 1.7745, 1.7745, 1.7745, 1.7745, 1.7745, 1.7745, 1.7745, 1.7745, 1.7745, 1.7745, 1.7745, 1.7745, 1.7745, 1.7745, 1.7745, 1.7745, 1.7745, 1.7745, 1.7745, 1.7745, 1.7745, 1.6843, 1.7745, 1.7745, 1.7745, 1.7745, 1.7745, 1.7745, 1.7745, 1.7745, 1.7745, 1.6045, 1.42, 1.1902, 0.7685, 1.8356, 1.8356, 1.8296, 1.8296, 1.8221, 1.8221, 1.8221, 1.8221, 1.8001, 1.8001, 1.8001, 1.8001, 1.8001, 1.8001, 1.8001, 1.8001, 1.8001, 1.8001, 1.8001, 1.8001, 1.8001, 1.8001, 1.8001, 1.8001, 1.8001, 1.8001, 1.8001, 1.8001, 1.8001, 1.8001, 1.4569, 0.6395, 1.1538, 1.2205, 1.1683, 1.1683, 1.8001, 1.1683, 1.8001, 1.1538, 1.1538, 1.2205, 1.1538], \"logprob\": [30.0, 29.0, 28.0, 27.0, 26.0, 25.0, 24.0, 23.0, 22.0, 21.0, 20.0, 19.0, 18.0, 17.0, 16.0, 15.0, 14.0, 13.0, 12.0, 11.0, 10.0, 9.0, 8.0, 7.0, 6.0, 5.0, 4.0, 3.0, 2.0, 1.0, -2.7371, -2.7371, -3.2957, -3.5825, -3.5825, -3.5825, -3.5825, -3.5825, -3.5825, -3.5825, -3.5825, -3.9863, -3.9863, -3.9863, -4.6745, -4.6745, -4.6745, -4.6745, -4.6745, -4.6745, -4.6745, -4.6745, -4.6745, -4.6745, -4.6745, -4.6745, -4.6745, -4.6745, -4.6745, -4.6745, -3.9863, -4.6745, -4.6745, -4.6745, -4.6745, -4.6745, -4.6745, -4.6745, -4.6745, -4.6745, -4.6745, -4.6745, -2.4329, -2.5663, -2.9022, -3.4117, -3.4117, -3.4117, -3.8155, -3.8155, -3.8155, -3.8155, -4.5037, -4.5037, -4.5037, -4.5037, -4.5037, -4.5037, -4.5037, -4.5037, -4.5037, -4.5037, -4.5037, -4.5037, -4.5037, -4.5037, -4.5037, -4.5037, -4.5037, -4.5037, -4.5037, -4.5037, -3.8155, -4.5037, -4.5037, -4.5037, -4.5037, -4.5037, -4.5037, -4.5037, -4.5037, -4.5037, -1.8478, -3.1677, -3.1677, -3.4546, -3.4546, -3.8584, -3.8584, -3.8584, -3.8584, -3.8584, -4.5466, -4.5466, -4.5466, -4.5466, -4.5466, -4.5466, -4.5466, -4.5466, -4.5466, -4.5466, -4.5466, -4.5466, -4.5466, -4.5466, -4.5466, -4.5466, -4.5466, -4.5466, -4.5466, -4.5466, -2.9451, -3.8584, -3.8584, -4.5466, -4.5466, -4.5466, -4.5466, -4.5466, -4.5466, -4.5466, -2.5772, -2.7311, -3.1357, -3.4226, -3.4226, -3.4226, -3.8264, -3.8264, -3.8264, -3.8264, -3.8264, -4.5146, -4.5146, -4.5146, -4.5146, -4.5146, -4.5146, -4.5146, -4.5146, -4.5146, -4.5146, -4.5146, -4.5146, -4.5146, -4.5146, -4.5146, -4.5146, -4.5146, -4.5146, -4.5146, -2.9131, -4.5146, -4.5146, -4.5146, -4.5146, -4.5146, -4.5146, -4.5146, -4.5146, -3.045, -3.045, -3.3318, -3.3318, -3.3318, -3.3318, -3.7357, -4.4238, -4.4238, -4.4238, -4.4238, -4.4238, -4.4238, -4.4238, -4.4238, -4.4238, -4.4238, -4.4238, -4.4238, -4.4238, -4.4238, -4.4238, -4.4238, -4.4238, -4.4238, -4.4238, -4.4238, -4.4238, -4.4238, -4.4238, -2.4865, -4.4238, -4.4238, -4.4238, -4.4238, -4.4238, -4.4238, -4.4238, -4.4238, -4.4238, -3.045, -3.7357, -4.4238, -4.4238, -2.7861, -2.7861, -3.2956, -3.2956, -3.6994, -3.6994, -3.6994, -3.6994, -4.3876, -4.3876, -4.3876, -4.3876, -4.3876, -4.3876, -4.3876, -4.3876, -4.3876, -4.3876, -4.3876, -4.3876, -4.3876, -4.3876, -4.3876, -4.3876, -4.3876, -4.3876, -4.3876, -4.3876, -4.3876, -4.3876, -3.6994, -3.6994, -4.3876, -4.3876, -4.3876, -4.3876, -4.3876, -4.3876, -4.3876, -4.3876, -4.3876, -4.3876, -4.3876]}, \"token.table\": {\"Topic\": [2, 3, 4, 5, 4, 6, 3, 4, 4, 6, 4, 6, 5, 2, 2, 2, 5, 5, 2, 3, 2, 5, 5, 6, 6, 4, 2, 1, 1, 2, 2, 1, 6, 3, 1, 4, 1, 4, 6, 6, 5, 6, 1, 1, 6, 5, 2, 6, 1, 6, 2, 4, 2, 2, 5, 3, 2, 1, 3, 1, 2, 5, 5, 5, 1, 6, 3, 5, 3, 6, 6, 6, 2, 3, 2, 2, 6, 1, 6, 5, 1, 5, 2, 3, 3, 3, 3, 1, 4, 4, 5, 4, 4, 6, 5, 3, 5, 4, 1, 6, 4, 1, 5, 1, 5, 1, 2, 4, 1, 6, 2, 6, 4, 2, 4, 5, 5, 6, 4, 1, 4, 6, 4, 6, 4, 6, 5, 4, 5, 4, 6, 2, 3, 3, 5, 4, 4, 6, 1, 6, 1, 1, 6, 5, 3, 6, 1, 3, 3, 5, 2, 3, 1, 3, 1, 2, 3, 5, 6, 3, 3, 4, 6, 4, 5, 4, 2, 3, 1, 2, 4, 5, 4, 4, 1, 2, 6, 5, 5, 6, 2, 3, 5, 1, 2, 1, 4, 1, 3, 3, 1, 1, 5, 1, 2, 2, 5, 1, 2, 4, 1, 5, 3, 5, 4, 2, 6, 5, 3, 4, 3, 2, 6, 1, 5, 4, 1, 2, 3, 2, 4, 2, 6, 2, 6, 4, 1, 5, 5, 3, 5, 3, 4, 2, 3, 5, 3, 1, 6, 2, 3, 5, 5, 1, 6, 3, 1, 1, 3, 6, 3, 3, 4, 2, 2, 2, 3, 6, 4], \"Freq\": [0.9496504148925363, 1.0479750635260898, 1.0210207105318354, 0.9229605096181098, 0.97744773398475, 0.9380922724072634, 1.032231753727521, 0.97744773398475, 0.97744773398475, 0.9131584101772928, 0.97744773398475, 0.9131584101772928, 0.9229605096181098, 0.9859893847725419, 0.9859893847725419, 0.9496504148925363, 0.9229605096181098, 0.9229605096181098, 0.9496504148925363, 1.0021227752673803, 0.9496504148925363, 0.9229605096181098, 0.9229605096181098, 0.9131584101772928, 0.9131584101772928, 1.0159883712699609, 0.9496504148925363, 1.1372203174795121, 1.0891508559091694, 0.9496504148925363, 0.9496504148925363, 0.9872089218690641, 0.9131584101772928, 1.0021227752673803, 1.0891508559091694, 0.97744773398475, 1.1372203174795121, 0.48544660340410145, 0.48544660340410145, 0.9131584101772928, 0.9229605096181098, 0.9131584101772928, 1.1248095051961102, 0.5115004098646828, 0.5115004098646828, 0.9229605096181098, 0.4784905889907304, 0.4784905889907304, 1.0891508559091694, 0.9131584101772928, 0.9496504148925363, 1.0060710584564547, 0.9496504148925363, 0.12150948076168312, 0.8505663653317819, 1.0021227752673803, 0.9496504148925363, 1.0891508559091694, 1.032231753727521, 1.0891508559091694, 0.9496504148925363, 0.9229605096181098, 0.9229605096181098, 0.9229605096181098, 1.0891508559091694, 0.9131584101772928, 0.19612052457668705, 0.7844820983067482, 1.0021227752673803, 0.9131584101772928, 0.9131584101772928, 0.9131584101772928, 0.9496504148925363, 1.0021227752673803, 0.9496504148925363, 0.9496504148925363, 0.9131584101772928, 1.0891508559091694, 0.9131584101772928, 0.9229605096181098, 1.1372203174795121, 0.9229605096181098, 0.9496504148925363, 0.9891735647489582, 1.0021227752673803, 1.0021227752673803, 1.0021227752673803, 0.7291453300313439, 0.3645726650156719, 0.3253530265529961, 0.6507060531059922, 1.0060710584564547, 0.97744773398475, 0.9131584101772928, 0.9484400070910572, 1.0021227752673803, 0.9229605096181098, 0.97744773398475, 1.0891508559091694, 0.9131584101772928, 0.97744773398475, 1.0891508559091694, 0.9572486958969595, 1.0891508559091694, 0.9617146849508063, 1.1248095051961102, 0.9766463878353531, 1.0060710584564547, 1.0891508559091694, 0.9131584101772928, 0.9935934805527475, 0.9131584101772928, 1.0060710584564547, 0.49557019180158834, 0.49557019180158834, 0.9229605096181098, 0.9229605096181098, 0.9467089263114307, 0.97744773398475, 1.0891508559091694, 0.97744773398475, 0.9380922724072634, 0.97744773398475, 0.9537170640867445, 0.97744773398475, 0.9131584101772928, 0.9229605096181098, 0.97744773398475, 0.9229605096181098, 0.48544660340410145, 0.48544660340410145, 0.9766463878353531, 1.0479750635260898, 1.0021227752673803, 0.9617146849508063, 1.0275645821567667, 0.48544660340410145, 0.48544660340410145, 1.0891508559091694, 0.9537170640867445, 1.0891508559091694, 0.5115004098646828, 0.5115004098646828, 0.9229605096181098, 1.0021227752673803, 0.9467089263114307, 1.0891508559091694, 1.0021227752673803, 1.0021227752673803, 0.9229605096181098, 0.341022899378481, 0.682045798756962, 1.1372203174795121, 1.0021227752673803, 1.1372203174795121, 0.9766463878353531, 1.032231753727521, 0.9572486958969595, 0.9131584101772928, 1.0426742051444686, 1.0021227752673803, 0.7187750625203659, 0.2875100250081464, 0.97744773398475, 0.9572486958969595, 1.0159883712699609, 0.9496504148925363, 1.032231753727521, 0.9872089218690641, 0.49557019180158834, 0.49557019180158834, 0.9229605096181098, 0.97744773398475, 0.97744773398475, 1.0891508559091694, 0.9496504148925363, 0.9131584101772928, 0.9229605096181098, 0.9229605096181098, 0.9131584101772928, 0.5018350256440293, 0.5018350256440293, 0.9229605096181098, 1.0891508559091694, 0.9496504148925363, 0.5310660338065961, 0.5310660338065961, 0.5382669818459289, 0.5382669818459289, 1.032231753727521, 1.0891508559091694, 1.1248095051961102, 0.9229605096181098, 1.0891508559091694, 0.9496504148925363, 0.48116827870440926, 0.48116827870440926, 1.0891508559091694, 0.9859893847725419, 0.97744773398475, 1.0891508559091694, 0.9229605096181098, 0.6750359188849848, 0.3375179594424924, 0.97744773398475, 0.4784905889907304, 0.4784905889907304, 0.9229605096181098, 0.5094917628712349, 0.5094917628712349, 1.0021227752673803, 0.4784905889907304, 0.4784905889907304, 0.5145614788580845, 0.5145614788580845, 0.97744773398475, 1.0891508559091694, 0.9496504148925363, 1.0021227752673803, 0.9496504148925363, 0.97744773398475, 0.9496504148925363, 0.9380922724072634, 0.4784905889907304, 0.4784905889907304, 0.97744773398475, 1.0891508559091694, 0.9229605096181098, 0.9229605096181098, 1.0021227752673803, 0.9229605096181098, 1.0021227752673803, 1.0159883712699609, 0.5018350256440293, 0.5018350256440293, 0.9229605096181098, 1.0021227752673803, 1.1372203174795121, 0.9131584101772928, 0.29646484602015966, 0.7411621150503991, 0.9572486958969595, 0.9229605096181098, 1.1372203174795121, 0.9380922724072634, 1.0021227752673803, 1.1372203174795121, 0.8576467471943853, 1.0021227752673803, 0.9131584101772928, 1.0021227752673803, 1.0426742051444686, 1.0060710584564547, 0.996888402243985, 0.9766463878353531, 0.9979225514978871, 0.3255574903975002, 0.6511149807950004, 1.02610314977362], \"Term\": [\"accept\", \"access\", \"account\", \"accusation\", \"additionally\", \"admit\", \"affiliation\", \"akshar\", \"amazing\", \"assistance\", \"attire\", \"attorney\", \"availability\", \"base\", \"basis\", \"bear\", \"bedroom\", \"behavior\", \"burden\", \"burearu\", \"business\", \"camera\", \"campus\", \"case\", \"character\", \"charge\", \"chief\", \"child\", \"choice\", \"ci\", \"circumstance\", \"claim\", \"clarify\", \"clothing\", \"collateral\", \"collection\", \"communication\", \"computer\", \"computer\", \"conduct\", \"confronting\", \"confusing\", \"constitute\", \"contact\", \"contact\", \"contend\", \"contradict\", \"contradict\", \"controversy\", \"convict\", \"conviction\", \"counsel\", \"county\", \"court\", \"court\", \"coutns\", \"cpl\", \"criminal\", \"daughter\", \"death\", \"deceptively\", \"decline\", \"defendant\", \"defense\", \"degree\", \"delete\", \"deny\", \"deny\", \"depraved\", \"digital\", \"direct\", \"directly\", \"disclosure\", \"discoverable\", \"discredit\", \"dismiss\", \"distress\", \"earth\", \"easy\", \"emotional\", \"employee\", \"erred\", \"event\", \"evidence\", \"evidently\", \"examine\", \"execute\", \"faculty\", \"faculty\", \"fail\", \"fail\", \"failure\", \"faith\", \"farrad\", \"federal\", \"final\", \"forego\", \"forward\", \"foundation\", \"fr\", \"friend\", \"funeral\", \"gang\", \"generalize\", \"give\", \"government\", \"guilt\", \"hearing\", \"history\", \"impact\", \"include\", \"indifference\", \"inform\", \"information\", \"information\", \"inquiry\", \"insinuate\", \"instruction\", \"intercourse\", \"interest\", \"internet\", \"issue\", \"jurisdiction\", \"juror\", \"justice\", \"lack\", \"legally\", \"limine\", \"limit\", \"line\", \"line\", \"local\", \"make\", \"march\", \"medium\", \"message\", \"misconduct\", \"misconduct\", \"motif\", \"motion\", \"multiple\", \"murder\", \"murder\", \"negative\", \"network\", \"obtain\", \"offender\", \"offer\", \"office\", \"officer\", \"oral\", \"oral\", \"order\", \"overwhelm\", \"page\", \"paragraph\", \"paul\", \"people\", \"perform\", \"permit\", \"person\", \"photograph\", \"photograph\", \"physician\", \"plaintiff\", \"police\", \"possess\", \"possession\", \"post\", \"posting\", \"posting\", \"preclude\", \"prejudice\", \"prejudiced\", \"prejudicial\", \"preliminary\", \"previously\", \"primate\", \"probability\", \"probable\", \"procedure\", \"procedure\", \"profile\", \"prohibit\", \"proof\", \"proper\", \"proper\", \"properly\", \"properly\", \"prosecutor\", \"provide\", \"public\", \"publicaly\", \"put\", \"qualified\", \"question\", \"question\", \"reasonable\", \"record\", \"recover\", \"reduce\", \"refuse\", \"regard\", \"regard\", \"relationship\", \"rely\", \"rely\", \"remedy\", \"remote\", \"remote\", \"remove\", \"report\", \"report\", \"request\", \"request\", \"respond\", \"responsbilitie\", \"retrieve\", \"reveal\", \"reverse\", \"revise\", \"roommate\", \"rule\", \"search\", \"search\", \"secretly\", \"send\", \"sentence\", \"serf\", \"sergeant\", \"series\", \"set\", \"sex\", \"sexual\", \"sexual\", \"sexually\", \"show\", \"site\", \"slight\", \"social\", \"social\", \"specific\", \"speculative\", \"staff\", \"stipulation\", \"stop\", \"student\", \"support\", \"supportive\", \"surround\", \"testify\", \"testimony\", \"uploaded\", \"victim\", \"victm\", \"video\", \"website\", \"website\", \"witness\"]}, \"R\": 30, \"lambda.step\": 0.01, \"plot.opts\": {\"xlab\": \"PC1\", \"ylab\": \"PC2\"}, \"topic.order\": [3, 1, 6, 5, 4, 2]};\n",
       "\n",
       "function LDAvis_load_lib(url, callback){\n",
       "  var s = document.createElement('script');\n",
       "  s.src = url;\n",
       "  s.async = true;\n",
       "  s.onreadystatechange = s.onload = callback;\n",
       "  s.onerror = function(){console.warn(\"failed to load library \" + url);};\n",
       "  document.getElementsByTagName(\"head\")[0].appendChild(s);\n",
       "}\n",
       "\n",
       "if(typeof(LDAvis) !== \"undefined\"){\n",
       "   // already loaded: just create the visualization\n",
       "   !function(LDAvis){\n",
       "       new LDAvis(\"#\" + \"ldavis_el224691122505969529500518410\", ldavis_el224691122505969529500518410_data);\n",
       "   }(LDAvis);\n",
       "}else if(typeof define === \"function\" && define.amd){\n",
       "   // require.js is available: use it to load d3/LDAvis\n",
       "   require.config({paths: {d3: \"https://cdnjs.cloudflare.com/ajax/libs/d3/3.5.5/d3.min\"}});\n",
       "   require([\"d3\"], function(d3){\n",
       "      window.d3 = d3;\n",
       "      LDAvis_load_lib(\"https://cdn.rawgit.com/bmabey/pyLDAvis/files/ldavis.v1.0.0.js\", function(){\n",
       "        new LDAvis(\"#\" + \"ldavis_el224691122505969529500518410\", ldavis_el224691122505969529500518410_data);\n",
       "      });\n",
       "    });\n",
       "}else{\n",
       "    // require.js not available: dynamically load d3 & LDAvis\n",
       "    LDAvis_load_lib(\"https://cdnjs.cloudflare.com/ajax/libs/d3/3.5.5/d3.min.js\", function(){\n",
       "         LDAvis_load_lib(\"https://cdn.rawgit.com/bmabey/pyLDAvis/files/ldavis.v1.0.0.js\", function(){\n",
       "                 new LDAvis(\"#\" + \"ldavis_el224691122505969529500518410\", ldavis_el224691122505969529500518410_data);\n",
       "            })\n",
       "         });\n",
       "}\n",
       "</script>"
      ],
      "text/plain": [
       "<IPython.core.display.HTML object>"
      ]
     },
     "execution_count": 88,
     "metadata": {},
     "output_type": "execute_result"
    }
   ],
   "source": [
    "state_file = optimal_model.fstate()\n",
    "print(state_file)\n",
    "from process_pyldaviz import get_pyldaviz\n",
    "lda_prop = get_pyldaviz(state_file)\n",
    "vis_data = pyLDAvis.prepare(**lda_prop)\n",
    "pyLDAvis.display(vis_data)"
   ]
  },
  {
   "cell_type": "code",
   "execution_count": 89,
   "metadata": {
    "collapsed": true
   },
   "outputs": [],
   "source": [
    "pyLDAvis.save_html(vis_data,'support.html')"
   ]
  },
  {
   "cell_type": "code",
   "execution_count": 92,
   "metadata": {
    "collapsed": false
   },
   "outputs": [],
   "source": [
    "# df['Offence'] -> create vague categories"
   ]
  },
  {
   "cell_type": "code",
   "execution_count": null,
   "metadata": {
    "collapsed": true
   },
   "outputs": [],
   "source": [
    "# "
   ]
  }
 ],
 "metadata": {
  "kernelspec": {
   "display_name": "Python 3",
   "language": "python",
   "name": "python3"
  },
  "language_info": {
   "codemirror_mode": {
    "name": "ipython",
    "version": 3
   },
   "file_extension": ".py",
   "mimetype": "text/x-python",
   "name": "python",
   "nbconvert_exporter": "python",
   "pygments_lexer": "ipython3",
   "version": "3.6.5"
  }
 },
 "nbformat": 4,
 "nbformat_minor": 2
}
