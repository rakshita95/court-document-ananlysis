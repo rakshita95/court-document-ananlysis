{
 "cells": [
  {
   "cell_type": "code",
   "execution_count": 1,
   "metadata": {
    "collapsed": true
   },
   "outputs": [],
   "source": [
    "import pandas as pd\n",
    "import os\n",
    "import re\n",
    "import numpy as np\n",
    "from pprint import pprint\n",
    "\n",
    "# Gensim\n",
    "import gensim\n",
    "import gensim.corpora as corpora\n",
    "from gensim.utils import simple_preprocess\n",
    "from gensim.models import CoherenceModel\n",
    "\n",
    "# spacy for lemmatization\n",
    "import spacy\n",
    "\n",
    "# Plotting tools\n",
    "import pyLDAvis\n",
    "import pyLDAvis.gensim  # don't skip this\n",
    "import matplotlib.pyplot as plt\n",
    "%matplotlib inline\n",
    "\n",
    "import warnings\n",
    "warnings.filterwarnings(\"ignore\",category=DeprecationWarning)\n",
    "from nltk.corpus import stopwords\n"
   ]
  },
  {
   "cell_type": "code",
   "execution_count": 2,
   "metadata": {
    "collapsed": false
   },
   "outputs": [
    {
     "data": {
      "text/html": [
       "<div>\n",
       "<style scoped>\n",
       "    .dataframe tbody tr th:only-of-type {\n",
       "        vertical-align: middle;\n",
       "    }\n",
       "\n",
       "    .dataframe tbody tr th {\n",
       "        vertical-align: top;\n",
       "    }\n",
       "\n",
       "    .dataframe thead th {\n",
       "        text-align: right;\n",
       "    }\n",
       "</style>\n",
       "<table border=\"1\" class=\"dataframe\">\n",
       "  <thead>\n",
       "    <tr style=\"text-align: right;\">\n",
       "      <th></th>\n",
       "      <th>Offence_final</th>\n",
       "      <th>Offence</th>\n",
       "      <th>Outcome: SM</th>\n",
       "      <th>Outcome: Overall Verdict</th>\n",
       "      <th>Support</th>\n",
       "      <th>Prior case Influence</th>\n",
       "      <th>Platform</th>\n",
       "      <th>Evidence Type</th>\n",
       "      <th>Unnamed: 9</th>\n",
       "    </tr>\n",
       "    <tr>\n",
       "      <th>Case Name</th>\n",
       "      <th></th>\n",
       "      <th></th>\n",
       "      <th></th>\n",
       "      <th></th>\n",
       "      <th></th>\n",
       "      <th></th>\n",
       "      <th></th>\n",
       "      <th></th>\n",
       "      <th></th>\n",
       "    </tr>\n",
       "  </thead>\n",
       "  <tbody>\n",
       "    <tr>\n",
       "      <th>People v Wells</th>\n",
       "      <td>murder</td>\n",
       "      <td>Murder in the second degree; criminal possessi...</td>\n",
       "      <td>However, the admission of the photographs was ...</td>\n",
       "      <td>Judgement is affirmed</td>\n",
       "      <td>We agree with the Supreme Court's determinatio...</td>\n",
       "      <td>People v Price ; People v Patterson; People v ...</td>\n",
       "      <td>Facebook; Instagram</td>\n",
       "      <td>Photographs</td>\n",
       "      <td>NaN</td>\n",
       "    </tr>\n",
       "    <tr>\n",
       "      <th>Pecile v Titan Capital Group</th>\n",
       "      <td>sexual harassment</td>\n",
       "      <td>sexual harassment</td>\n",
       "      <td>Regarding defendants' demand for access to pla...</td>\n",
       "      <td>NaN</td>\n",
       "      <td>NaN</td>\n",
       "      <td>Tapp v New York State Urban Dev. Corp.,</td>\n",
       "      <td>Social media</td>\n",
       "      <td>Posts</td>\n",
       "      <td>NaN</td>\n",
       "    </tr>\n",
       "  </tbody>\n",
       "</table>\n",
       "</div>"
      ],
      "text/plain": [
       "                                  Offence_final  \\\n",
       "Case Name                                         \n",
       "People v Wells                           murder   \n",
       "Pecile v Titan Capital Group  sexual harassment   \n",
       "\n",
       "                                                                        Offence  \\\n",
       "Case Name                                                                         \n",
       "People v Wells                Murder in the second degree; criminal possessi...   \n",
       "Pecile v Titan Capital Group                                  sexual harassment   \n",
       "\n",
       "                                                                    Outcome: SM  \\\n",
       "Case Name                                                                         \n",
       "People v Wells                However, the admission of the photographs was ...   \n",
       "Pecile v Titan Capital Group  Regarding defendants' demand for access to pla...   \n",
       "\n",
       "                             Outcome: Overall Verdict  \\\n",
       "Case Name                                               \n",
       "People v Wells                  Judgement is affirmed   \n",
       "Pecile v Titan Capital Group                      NaN   \n",
       "\n",
       "                                                                        Support  \\\n",
       "Case Name                                                                         \n",
       "People v Wells                We agree with the Supreme Court's determinatio...   \n",
       "Pecile v Titan Capital Group                                                NaN   \n",
       "\n",
       "                                                           Prior case Influence  \\\n",
       "Case Name                                                                         \n",
       "People v Wells                People v Price ; People v Patterson; People v ...   \n",
       "Pecile v Titan Capital Group            Tapp v New York State Urban Dev. Corp.,   \n",
       "\n",
       "                                         Platform Evidence Type Unnamed: 9  \n",
       "Case Name                                                                   \n",
       "People v Wells                Facebook; Instagram   Photographs        NaN  \n",
       "Pecile v Titan Capital Group         Social media         Posts        NaN  "
      ]
     },
     "execution_count": 2,
     "metadata": {},
     "output_type": "execute_result"
    }
   ],
   "source": [
    "# df = pd.read_csv('AnnotatedDocuments - Cases.tsv', sep='\\t')\n",
    "df = pd.read_csv('AnnotatedDocumentsMyEdits.tsv', sep='\\t')\n",
    "df.set_index('Case Name',inplace=True)\n",
    "df.head(2)"
   ]
  },
  {
   "cell_type": "code",
   "execution_count": 3,
   "metadata": {
    "collapsed": false
   },
   "outputs": [
    {
     "name": "stdout",
     "output_type": "stream",
     "text": [
      "Num cases annotated:  39\n"
     ]
    },
    {
     "data": {
      "text/plain": [
       "Offence_final                1\n",
       "Offence                      1\n",
       "Outcome: SM                  7\n",
       "Outcome: Overall Verdict     3\n",
       "Support                      7\n",
       "Prior case Influence         4\n",
       "Platform                     4\n",
       "Evidence Type                5\n",
       "Unnamed: 9                  37\n",
       "dtype: int64"
      ]
     },
     "execution_count": 3,
     "metadata": {},
     "output_type": "execute_result"
    }
   ],
   "source": [
    "df.dropna(axis=0, how='all',inplace=True)\n",
    "print(\"Num cases annotated: \",len(df))\n",
    "df.isnull().sum()"
   ]
  },
  {
   "cell_type": "markdown",
   "metadata": {},
   "source": [
    "## Topic Modelling - All text"
   ]
  },
  {
   "cell_type": "code",
   "execution_count": 4,
   "metadata": {
    "collapsed": false
   },
   "outputs": [
    {
     "data": {
      "text/plain": [
       "30"
      ]
     },
     "execution_count": 4,
     "metadata": {},
     "output_type": "execute_result"
    }
   ],
   "source": [
    "df['all_text']=df['Outcome: SM']+' '+df['Support']+' '+df['Outcome: Overall Verdict']\n",
    "# what is SORA?\n",
    "import gensim\n",
    "docs_words = []\n",
    "for text in df['all_text'].dropna():\n",
    "    docs_words.append(gensim.utils.simple_preprocess(text, deacc=True))\n",
    "ids = df['all_text'].dropna().index\n",
    "len(docs_words)"
   ]
  },
  {
   "cell_type": "code",
   "execution_count": 5,
   "metadata": {
    "collapsed": true
   },
   "outputs": [],
   "source": [
    "# Define functions for stopwords, bigrams, trigrams and lemmatization\n",
    "def remove_stopwords(texts):\n",
    "    return [[word for word in simple_preprocess(str(doc)) if word not in stop_words] for doc in texts]\n",
    "\n",
    "def make_bigrams(texts):\n",
    "    return [bigram_mod[doc] for doc in texts]\n",
    "\n",
    "def lemmatization(texts, allowed_postags=['NOUN', 'ADJ', 'VERB', 'ADV']):\n",
    "    \"\"\"https://spacy.io/api/annotation\"\"\"\n",
    "    texts_out = []\n",
    "    for sent in texts:\n",
    "        doc = nlp(\" \".join(sent)) \n",
    "        texts_out.append([token.lemma_ for token in doc if token.pos_ in allowed_postags])\n",
    "    return texts_out\n",
    "\n",
    "stop_words = stopwords.words('english')\n",
    "# stop_words.extend(['facebook','myspace','defendant','defendent','complainant','st','paul','post','posting','evidence','court','video','photo','photograph'])\n",
    "stop_words.extend(['defendant','defendent','complainant'])\n",
    "\n",
    "# Build the bigram and trigram models\n",
    "bigram = gensim.models.Phrases(docs_words, min_count=5, threshold=100) # higher threshold fewer phrases. \n",
    "\n",
    "# Faster way to get a sentence clubbed as a trigram/bigram\n",
    "bigram_mod = gensim.models.phrases.Phraser(bigram)\n",
    "\n",
    "\n",
    "# Remove Stop Words\n",
    "docs_words_nostops = remove_stopwords(docs_words)\n",
    "\n",
    "# Form Bigrams\n",
    "data_words_bigrams = make_bigrams(docs_words_nostops)\n",
    "\n",
    "# Initialize spacy 'en' model, keeping only tagger component (for efficiency)\n",
    "# python3 -m spacy download en\n",
    "nlp = spacy.load('en', disable=['parser', 'ner'])\n",
    "\n",
    "# Do lemmatization keeping only noun, adj, vb, adv\n",
    "# data_lemmatized = lemmatization(docs_words_nostops, allowed_postags=['NOUN', 'ADJ', 'VERB', 'ADV'])\n",
    "data_lemmatized = lemmatization(data_words_bigrams, allowed_postags=['NOUN', 'ADJ', 'VERB', 'ADV'])\n",
    "\n",
    "# Create Dictionary\n",
    "id2word = corpora.Dictionary(data_lemmatized)\n",
    "\n",
    "# Create Corpus\n",
    "texts = data_lemmatized\n",
    "\n",
    "# Term Document Frequency\n",
    "corpus = [id2word.doc2bow(text) for text in texts]"
   ]
  },
  {
   "cell_type": "code",
   "execution_count": 6,
   "metadata": {
    "collapsed": false
   },
   "outputs": [
    {
     "data": {
      "image/png": "[encoded data removed]",
      "text/plain": [
       "<Figure size 432x288 with 1 Axes>"
      ]
     },
     "metadata": {},
     "output_type": "display_data"
    }
   ],
   "source": [
    "mallet_path = '/Users/rakshitanagalla/Desktop/SSW-Legal/mallet-2.0.8/bin/mallet'\n",
    "def compute_coherence_values(dictionary, corpus, texts, limit, start=2, step=3):\n",
    "    \"\"\"\n",
    "    Compute c_v coherence for various number of topics\n",
    "    For details, refer: \n",
    "\n",
    "    Parameters:\n",
    "    ----------\n",
    "    dictionary : Gensim dictionary\n",
    "    corpus : Gensim corpus\n",
    "    texts : List of input texts\n",
    "    limit : Max num of topics\n",
    "\n",
    "    Returns:\n",
    "    -------\n",
    "    model_list : List of LDA topic models\n",
    "    coherence_values : Coherence values corresponding to the LDA model with respective number of topics\n",
    "    \"\"\"\n",
    "    coherence_values = []\n",
    "    model_list = []\n",
    "    for num_topics in range(start, limit, step):\n",
    "        model = gensim.models.wrappers.LdaMallet(mallet_path, corpus=corpus, num_topics=num_topics, id2word=dictionary)\n",
    "        model_list.append(model)\n",
    "        coherencemodel = CoherenceModel(model=model, texts=texts, dictionary=dictionary, coherence='c_v') # try 'u_mass' too\n",
    "        coherence_values.append(coherencemodel.get_coherence())\n",
    "\n",
    "    return model_list, coherence_values\n",
    "# Can take a long time to run.\n",
    "model_list, coherence_values = compute_coherence_values(dictionary=id2word, corpus=corpus, texts=data_lemmatized, start=2, limit=8, step=1)\n",
    "# Show graph\n",
    "# limit=12; start=2; step=2;\n",
    "limit=8; start=2; step=1;\n",
    "x = range(start, limit, step)\n",
    "plt.plot(x, coherence_values)\n",
    "plt.xlabel(\"Num Topics\")\n",
    "plt.ylabel(\"Coherence score\")\n",
    "plt.legend((\"coherence_values\"), loc='best')\n",
    "plt.show()"
   ]
  },
  {
   "cell_type": "code",
   "execution_count": 7,
   "metadata": {
    "collapsed": false
   },
   "outputs": [
    {
     "name": "stdout",
     "output_type": "stream",
     "text": [
      "Num Topics = 2  has Coherence Value of 0.4228\n",
      "Num Topics = 3  has Coherence Value of 0.4504\n",
      "Num Topics = 4  has Coherence Value of 0.5397\n",
      "Num Topics = 5  has Coherence Value of 0.5263\n",
      "Num Topics = 6  has Coherence Value of 0.4967\n",
      "Num Topics = 7  has Coherence Value of 0.4907\n"
     ]
    }
   ],
   "source": [
    "# Print the coherence scores\n",
    "for m, cv in zip(x, coherence_values):\n",
    "    print(\"Num Topics =\", m, \" has Coherence Value of\", round(cv, 4))"
   ]
  },
  {
   "cell_type": "code",
   "execution_count": 10,
   "metadata": {
    "collapsed": false
   },
   "outputs": [
    {
     "name": "stdout",
     "output_type": "stream",
     "text": [
      "[(0,\n",
      "  '0.058*\"evidence\" + 0.037*\"witness\" + 0.037*\"motion\" + 0.037*\"photo\" + '\n",
      "  '0.026*\"photograph\" + 0.026*\"deny\" + 0.021*\"include\" + 0.018*\"criminal\" + '\n",
      "  '0.018*\"record\" + 0.018*\"possession\"'),\n",
      " (1,\n",
      "  '0.090*\"facebook\" + 0.037*\"post\" + 0.018*\"page\" + 0.018*\"friend\" + '\n",
      "  '0.018*\"order\" + 0.018*\"people\" + 0.016*\"staff\" + 0.013*\"conduct\" + '\n",
      "  '0.013*\"student\" + 0.013*\"specific\"'),\n",
      " (2,\n",
      "  '0.051*\"court\" + 0.034*\"video\" + 0.032*\"message\" + 0.032*\"evidence\" + '\n",
      "  '0.024*\"testimony\" + 0.024*\"trial\" + 0.024*\"juror\" + 0.022*\"victim\" + '\n",
      "  '0.022*\"make\" + 0.020*\"social\"'),\n",
      " (3,\n",
      "  '0.039*\"myspace\" + 0.039*\"year\" + 0.036*\"sentence\" + 0.031*\"account\" + '\n",
      "  '0.025*\"claim\" + 0.022*\"sex\" + 0.017*\"offender\" + 0.017*\"term\" + '\n",
      "  '0.017*\"give\" + 0.017*\"count\"')]\n"
     ]
    }
   ],
   "source": [
    "optimal_model = model_list[2]\n",
    "model_topics = optimal_model.show_topics(formatted=False)\n",
    "pprint(optimal_model.print_topics(num_words=10))"
   ]
  },
  {
   "cell_type": "markdown",
   "metadata": {},
   "source": [
    "## Visualize Keywords"
   ]
  },
  {
   "cell_type": "code",
   "execution_count": 11,
   "metadata": {
    "collapsed": false
   },
   "outputs": [
    {
     "name": "stdout",
     "output_type": "stream",
     "text": [
      "/var/folders/8g/1g347k696y56fdzqtj5x54cr0000gn/T/70e63c_state.mallet.gz\n",
      "[12.5, 12.5, 12.5, 12.5], 0.01\n"
     ]
    },
    {
     "name": "stderr",
     "output_type": "stream",
     "text": [
      "//anaconda/lib/python3.6/site-packages/pyLDAvis/_prepare.py:257: FutureWarning: Sorting because non-concatenation axis is not aligned. A future version\n",
      "of pandas will change to not sort by default.\n",
      "\n",
      "To accept the future behavior, pass 'sort=False'.\n",
      "\n",
      "To retain the current behavior and silence the warning, pass 'sort=True'.\n",
      "\n",
      "  return pd.concat([default_term_info] + list(topic_dfs))\n"
     ]
    },
    {
     "data": {
      "text/html": [
       "\n",
       "<link rel=\"stylesheet\" type=\"text/css\" href=\"https://cdn.rawgit.com/bmabey/pyLDAvis/files/ldavis.v1.0.0.css\">\n",
       "\n",
       "\n",
       "<div id=\"ldavis_el83461122136299524499215935\"></div>\n",
       "<script type=\"text/javascript\">\n",
       "\n",
       "var ldavis_el83461122136299524499215935_data = {\"mdsDat\": {\"x\": [0.2284644281156877, -0.25726123937911644, -0.20908608916788343, 0.23788290043131213], \"y\": [0.3180055723964686, -0.037221052262988504, 0.03453183461252044, -0.3153163547460004], \"topics\": [1, 2, 3, 4], \"cluster\": [1, 1, 1, 1], \"Freq\": [26.800292913089415, 25.2372745591622, 24.746679381759886, 23.21575314598849]}, \"tinfo\": {\"Category\": [\"Default\", \"Default\", \"Default\", \"Default\", \"Default\", \"Default\", \"Default\", \"Default\", \"Default\", \"Default\", \"Default\", \"Default\", \"Default\", \"Default\", \"Default\", \"Default\", \"Default\", \"Default\", \"Default\", \"Default\", \"Default\", \"Default\", \"Default\", \"Default\", \"Default\", \"Default\", \"Default\", \"Default\", \"Default\", \"Default\", \"Topic1\", \"Topic1\", \"Topic1\", \"Topic1\", \"Topic1\", \"Topic1\", \"Topic1\", \"Topic1\", \"Topic1\", \"Topic1\", \"Topic1\", \"Topic1\", \"Topic1\", \"Topic1\", \"Topic1\", \"Topic1\", \"Topic1\", \"Topic1\", \"Topic1\", \"Topic1\", \"Topic1\", \"Topic1\", \"Topic1\", \"Topic1\", \"Topic1\", \"Topic1\", \"Topic1\", \"Topic1\", \"Topic1\", \"Topic1\", \"Topic1\", \"Topic1\", \"Topic1\", \"Topic1\", \"Topic1\", \"Topic1\", \"Topic1\", \"Topic2\", \"Topic2\", \"Topic2\", \"Topic2\", \"Topic2\", \"Topic2\", \"Topic2\", \"Topic2\", \"Topic2\", \"Topic2\", \"Topic2\", \"Topic2\", \"Topic2\", \"Topic2\", \"Topic2\", \"Topic2\", \"Topic2\", \"Topic2\", \"Topic2\", \"Topic2\", \"Topic2\", \"Topic2\", \"Topic2\", \"Topic2\", \"Topic2\", \"Topic2\", \"Topic2\", \"Topic2\", \"Topic2\", \"Topic2\", \"Topic2\", \"Topic2\", \"Topic2\", \"Topic2\", \"Topic3\", \"Topic3\", \"Topic3\", \"Topic3\", \"Topic3\", \"Topic3\", \"Topic3\", \"Topic3\", \"Topic3\", \"Topic3\", \"Topic3\", \"Topic3\", \"Topic3\", \"Topic3\", \"Topic3\", \"Topic3\", \"Topic3\", \"Topic3\", \"Topic3\", \"Topic3\", \"Topic3\", \"Topic3\", \"Topic3\", \"Topic3\", \"Topic3\", \"Topic3\", \"Topic3\", \"Topic3\", \"Topic3\", \"Topic3\", \"Topic3\", \"Topic3\", \"Topic3\", \"Topic3\", \"Topic3\", \"Topic4\", \"Topic4\", \"Topic4\", \"Topic4\", \"Topic4\", \"Topic4\", \"Topic4\", \"Topic4\", \"Topic4\", \"Topic4\", \"Topic4\", \"Topic4\", \"Topic4\", \"Topic4\", \"Topic4\", \"Topic4\", \"Topic4\", \"Topic4\", \"Topic4\", \"Topic4\", \"Topic4\", \"Topic4\", \"Topic4\", \"Topic4\", \"Topic4\", \"Topic4\", \"Topic4\", \"Topic4\", \"Topic4\", \"Topic4\", \"Topic4\", \"Topic4\", \"Topic4\", \"Topic4\", \"Topic4\", \"Topic4\", \"Topic4\", \"Topic4\"], \"Freq\": [36.0, 19.0, 33.0, 13.0, 13.0, 14.0, 13.0, 13.0, 12.0, 12.0, 12.0, 15.0, 10.0, 9.0, 9.0, 8.0, 9.0, 9.0, 9.0, 8.0, 8.0, 7.0, 7.0, 7.0, 7.0, 7.0, 7.0, 7.0, 6.0, 6.0, 36.07849975122521, 14.862092958384745, 7.436350580890582, 7.436350580890582, 7.436350580890582, 7.436350580890582, 6.375530241248559, 5.314709901606536, 5.314709901606536, 5.314709901606536, 5.314709901606536, 5.314709901606536, 4.253889561964513, 4.253889561964513, 4.253889561964513, 4.253889561964513, 4.253889561964513, 4.253889561964513, 4.253889561964513, 4.253889561964513, 4.253889561964513, 4.253889561964513, 3.1930692223224892, 3.1930692223224892, 3.1930692223224892, 3.1930692223224892, 3.1930692223224892, 3.1930692223224892, 3.1930692223224892, 3.1930692223224892, 3.1930692223224892, 3.1930692223224892, 3.1930692223224892, 3.1930692223224892, 3.1930692223224892, 4.253889561964513, 4.253889561964513, 19.427841920477373, 12.954976930313563, 12.030281931718735, 9.256196935934245, 9.256196935934245, 9.256196935934245, 8.331501937339414, 8.331501937339414, 7.406806938744586, 6.482111940149756, 6.482111940149756, 5.5574169415549255, 5.5574169415549255, 4.632721942960097, 4.632721942960097, 4.632721942960097, 4.632721942960097, 4.632721942960097, 4.632721942960097, 4.632721942960097, 3.7080269443652667, 3.7080269443652667, 3.7080269443652667, 3.7080269443652667, 3.7080269443652667, 3.7080269443652667, 3.7080269443652667, 2.783331945770437, 2.783331945770437, 2.783331945770437, 12.030281931718735, 2.783331945770437, 3.7080269443652667, 2.783331945770437, 13.61743553442064, 13.61743553442064, 9.729516752287694, 9.729516752287694, 7.785557361221222, 6.813577665687984, 6.813577665687984, 6.813577665687984, 6.813577665687984, 5.84159797015475, 5.84159797015475, 5.84159797015475, 4.869618274621512, 3.8976385790882766, 3.8976385790882766, 3.8976385790882766, 3.8976385790882766, 3.8976385790882766, 3.8976385790882766, 3.8976385790882766, 3.8976385790882766, 3.8976385790882766, 2.9256588835550406, 2.9256588835550406, 2.9256588835550406, 2.9256588835550406, 2.9256588835550406, 2.9256588835550406, 2.9256588835550406, 2.9256588835550406, 13.61743553442064, 2.9256588835550406, 21.393273098686528, 2.9256588835550406, 3.8976385790882766, 13.652339862293266, 13.652339862293266, 12.677868780045353, 10.728926615549526, 8.779984451053698, 7.805513368805785, 5.856571204309959, 5.856571204309959, 5.856571204309959, 5.856571204309959, 4.882100122062045, 4.882100122062045, 4.882100122062045, 4.882100122062045, 3.907629039814132, 3.907629039814132, 3.907629039814132, 3.907629039814132, 3.907629039814132, 3.907629039814132, 2.9331579575662188, 2.9331579575662188, 2.9331579575662188, 2.9331579575662188, 2.9331579575662188, 2.9331579575662188, 2.9331579575662188, 2.9331579575662188, 2.9331579575662188, 2.9331579575662188, 2.9331579575662188, 2.9331579575662188, 2.9331579575662188, 2.9331579575662188, 4.882100122062045, 3.907629039814132, 2.9331579575662188, 2.9331579575662188], \"Term\": [\"facebook\", \"court\", \"evidence\", \"myspace\", \"year\", \"post\", \"witness\", \"photo\", \"sentence\", \"video\", \"message\", \"motion\", \"account\", \"photograph\", \"deny\", \"claim\", \"testimony\", \"juror\", \"trial\", \"victim\", \"make\", \"sex\", \"include\", \"social\", \"friend\", \"order\", \"people\", \"page\", \"search\", \"possession\", \"facebook\", \"post\", \"page\", \"people\", \"order\", \"friend\", \"staff\", \"specific\", \"request\", \"conduct\", \"student\", \"send\", \"family\", \"stipulation\", \"nursing\", \"violate\", \"obtain\", \"faculty\", \"akshar\", \"time\", \"impose\", \"employee\", \"authenticate\", \"threaten\", \"dismiss\", \"comment\", \"communication\", \"follow\", \"gun\", \"public\", \"postrelease\", \"part\", \"contend\", \"probation\", \"violation\", \"grant\", \"prison\", \"court\", \"video\", \"message\", \"testimony\", \"trial\", \"juror\", \"make\", \"victim\", \"social\", \"testify\", \"base\", \"law\", \"sufficient\", \"degree\", \"support\", \"verdict\", \"case\", \"report\", \"medium\", \"jury\", \"relationship\", \"regard\", \"website\", \"affirm\", \"guilt\", \"life\", \"judgement\", \"twitter\", \"set\", \"sexual\", \"evidence\", \"remote\", \"present\", \"uploaded\", \"witness\", \"photo\", \"deny\", \"photograph\", \"include\", \"possession\", \"criminal\", \"search\", \"record\", \"warrant\", \"admit\", \"find\", \"police\", \"show\", \"argue\", \"exhibit\", \"officer\", \"charge\", \"fail\", \"gang\", \"identification\", \"question\", \"seize\", \"murder\", \"create\", \"girl\", \"oral\", \"attorney\", \"footage\", \"instruction\", \"motion\", \"prosecutor\", \"evidence\", \"agree\", \"counsel\", \"year\", \"myspace\", \"sentence\", \"account\", \"claim\", \"sex\", \"count\", \"give\", \"term\", \"offender\", \"hearing\", \"child\", \"reverse\", \"complaintant\", \"statement\", \"aggregate\", \"computer\", \"history\", \"discretion\", \"weight\", \"provide\", \"site\", \"examine\", \"level\", \"crime\", \"clear\", \"supervision\", \"appeal\", \"introduce\", \"daughter\", \"permit\", \"age\", \"conviction\", \"consent\", \"access\", \"convict\", \"posting\", \"contact\"], \"Total\": [36.0, 19.0, 33.0, 13.0, 13.0, 14.0, 13.0, 13.0, 12.0, 12.0, 12.0, 15.0, 10.0, 9.0, 9.0, 8.0, 9.0, 9.0, 9.0, 8.0, 8.0, 7.0, 7.0, 7.0, 7.0, 7.0, 7.0, 7.0, 6.0, 6.0, 36.10721120898897, 14.890804416148505, 7.4650620386543425, 7.4650620386543425, 7.4650620386543425, 7.4650620386543425, 6.40424169901232, 5.343421359370296, 5.343421359370296, 5.343421359370296, 5.343421359370296, 5.343421359370296, 4.282601019728274, 4.282601019728274, 4.282601019728274, 4.282601019728274, 4.282601019728274, 4.282601019728274, 4.282601019728274, 4.282601019728274, 4.282601019728274, 4.282601019728274, 3.221780680086249, 3.221780680086249, 3.221780680086249, 3.221780680086249, 3.221780680086249, 3.221780680086249, 3.221780680086249, 3.221780680086249, 3.221780680086249, 3.221780680086249, 3.221780680086249, 3.221780680086249, 3.221780680086249, 5.207296018323103, 6.231543184224099, 19.4579146316516, 12.985049641487796, 12.060354642892968, 9.286269647108478, 9.286269647108478, 9.286269647108478, 8.361574648513647, 8.361574648513647, 7.436879649918818, 6.512184651323988, 6.512184651323988, 5.5874896527291575, 5.5874896527291575, 4.662794654134329, 4.662794654134329, 4.662794654134329, 4.662794654134329, 4.662794654134329, 4.662794654134329, 4.662794654134329, 3.7380996555394983, 3.7380996555394983, 3.7380996555394983, 3.7380996555394983, 3.7380996555394983, 3.7380996555394983, 3.7380996555394983, 2.8134046569446687, 2.8134046569446687, 2.8134046569446687, 33.443907944624165, 2.8134046569446687, 5.687041820035325, 2.8134046569446687, 13.647035398625487, 13.647035398625487, 9.759116616492541, 9.759116616492541, 7.81515722542607, 6.843177529892833, 6.843177529892833, 6.843177529892833, 6.843177529892833, 5.871197834359598, 5.871197834359598, 5.871197834359598, 4.8992181388263605, 3.927238443293124, 3.927238443293124, 3.927238443293124, 3.927238443293124, 3.927238443293124, 3.927238443293124, 3.927238443293124, 3.927238443293124, 3.927238443293124, 2.955258747759888, 2.955258747759888, 2.955258747759888, 2.955258747759888, 2.955258747759888, 2.955258747759888, 2.955258747759888, 2.955258747759888, 15.496425395815146, 2.955258747759888, 33.443907944624165, 2.955258747759888, 5.776628440482783, 13.681914812630966, 13.681914812630966, 12.707443730383053, 10.758501565887226, 8.809559401391398, 7.835088319143487, 5.88614615464766, 5.88614615464766, 5.88614615464766, 5.88614615464766, 4.911675072399746, 4.911675072399746, 4.911675072399746, 4.911675072399746, 3.9372039901518328, 3.9372039901518328, 3.9372039901518328, 3.9372039901518328, 3.9372039901518328, 3.9372039901518328, 2.9627329079039195, 2.9627329079039195, 2.9627329079039195, 2.9627329079039195, 2.9627329079039195, 2.9627329079039195, 2.9627329079039195, 2.9627329079039195, 2.9627329079039195, 2.9627329079039195, 2.9627329079039195, 2.9627329079039195, 2.9627329079039195, 2.9627329079039195, 5.836370070994576, 4.861898988746662, 2.9627329079039195, 2.9627329079039195], \"loglift\": [30.0, 29.0, 28.0, 27.0, 26.0, 25.0, 24.0, 23.0, 22.0, 21.0, 20.0, 19.0, 18.0, 17.0, 16.0, 15.0, 14.0, 13.0, 12.0, 11.0, 10.0, 9.0, 8.0, 7.0, 6.0, 5.0, 4.0, 3.0, 2.0, 1.0, 1.316, 1.3148, 1.3129, 1.3129, 1.3129, 1.3129, 1.3123, 1.3114, 1.3114, 1.3114, 1.3114, 1.3114, 1.31, 1.31, 1.31, 1.31, 1.31, 1.31, 1.31, 1.31, 1.31, 1.31, 1.3078, 1.3078, 1.3078, 1.3078, 1.3078, 1.3078, 1.3078, 1.3078, 1.3078, 1.3078, 1.3078, 1.3078, 1.3078, 1.1145, 0.935, 1.3753, 1.3745, 1.3744, 1.3736, 1.3736, 1.3736, 1.3732, 1.3732, 1.3728, 1.3722, 1.3722, 1.3715, 1.3715, 1.3704, 1.3704, 1.3704, 1.3704, 1.3704, 1.3704, 1.3704, 1.3688, 1.3688, 1.3688, 1.3688, 1.3688, 1.3688, 1.3688, 1.3661, 1.3661, 1.3661, 0.3544, 1.3661, 0.9492, 1.3661, 1.3943, 1.3943, 1.3934, 1.3934, 1.3927, 1.3921, 1.3921, 1.3921, 1.3921, 1.3914, 1.3914, 1.3914, 1.3904, 1.3889, 1.3889, 1.3889, 1.3889, 1.3889, 1.3889, 1.3889, 1.3889, 1.3889, 1.3864, 1.3864, 1.3864, 1.3864, 1.3864, 1.3864, 1.3864, 1.3864, 1.2672, 1.3864, 0.9497, 1.3864, 1.003, 1.4582, 1.4582, 1.458, 1.4576, 1.457, 1.4566, 1.4553, 1.4553, 1.4553, 1.4553, 1.4543, 1.4543, 1.4543, 1.4543, 1.4528, 1.4528, 1.4528, 1.4528, 1.4528, 1.4528, 1.4503, 1.4503, 1.4503, 1.4503, 1.4503, 1.4503, 1.4503, 1.4503, 1.4503, 1.4503, 1.4503, 1.4503, 1.4503, 1.4503, 1.2818, 1.2418, 1.4503, 1.4503], \"logprob\": [30.0, 29.0, 28.0, 27.0, 26.0, 25.0, 24.0, 23.0, 22.0, 21.0, 20.0, 19.0, 18.0, 17.0, 16.0, 15.0, 14.0, 13.0, 12.0, 11.0, 10.0, 9.0, 8.0, 7.0, 6.0, 5.0, 4.0, 3.0, 2.0, 1.0, -2.4293, -3.3161, -4.0086, -4.0086, -4.0086, -4.0086, -4.1625, -4.3445, -4.3445, -4.3445, -4.3445, -4.3445, -4.5671, -4.5671, -4.5671, -4.5671, -4.5671, -4.5671, -4.5671, -4.5671, -4.5671, -4.5671, -4.854, -4.854, -4.854, -4.854, -4.854, -4.854, -4.854, -4.854, -4.854, -4.854, -4.854, -4.854, -4.854, -4.5671, -4.5671, -2.9882, -3.3934, -3.4674, -3.7296, -3.7296, -3.7296, -3.8348, -3.8348, -3.9525, -4.0858, -4.0858, -4.2397, -4.2397, -4.4217, -4.4217, -4.4217, -4.4217, -4.4217, -4.4217, -4.4217, -4.6444, -4.6444, -4.6444, -4.6444, -4.6444, -4.6444, -4.6444, -4.9312, -4.9312, -4.9312, -3.4674, -4.9312, -4.6444, -4.9312, -3.3239, -3.3239, -3.6601, -3.6601, -3.883, -4.0163, -4.0163, -4.0163, -4.0163, -4.1702, -4.1702, -4.1702, -4.3522, -4.5749, -4.5749, -4.5749, -4.5749, -4.5749, -4.5749, -4.5749, -4.5749, -4.5749, -4.8617, -4.8617, -4.8617, -4.8617, -4.8617, -4.8617, -4.8617, -4.8617, -3.3239, -4.8617, -2.8722, -4.8617, -4.5749, -3.2575, -3.2575, -3.3315, -3.4984, -3.6989, -3.8165, -4.1038, -4.1038, -4.1038, -4.1038, -4.2858, -4.2858, -4.2858, -4.2858, -4.5084, -4.5084, -4.5084, -4.5084, -4.5084, -4.5084, -4.7953, -4.7953, -4.7953, -4.7953, -4.7953, -4.7953, -4.7953, -4.7953, -4.7953, -4.7953, -4.7953, -4.7953, -4.7953, -4.7953, -4.2858, -4.5084, -4.7953, -4.7953]}, \"token.table\": {\"Topic\": [2, 4, 4, 3, 2, 4, 4, 3, 1, 4, 3, 3, 1, 2, 2, 3, 4, 4, 4, 1, 1, 4, 4, 1, 4, 4, 1, 2, 4, 4, 2, 3, 4, 2, 3, 4, 3, 4, 2, 3, 4, 1, 1, 2, 3, 4, 3, 1, 1, 3, 1, 3, 1, 3, 1, 3, 3, 4, 1, 2, 2, 1, 4, 4, 3, 1, 3, 3, 4, 2, 2, 2, 2, 4, 2, 2, 2, 2, 2, 3, 3, 4, 1, 1, 4, 3, 3, 1, 1, 1, 1, 4, 3, 3, 3, 3, 1, 4, 1, 2, 4, 1, 4, 1, 3, 4, 1, 3, 3, 2, 2, 2, 2, 1, 4, 3, 3, 1, 4, 2, 4, 2, 3, 4, 2, 1, 1, 4, 1, 1, 2, 4, 2, 4, 2, 2, 1, 1, 2, 2, 2, 2, 2, 2, 1, 1, 3, 2, 4, 3, 4], \"Freq\": [0.17133937496009227, 0.8566968748004613, 1.02244721838202, 1.021937970627837, 1.0700624297354917, 1.0125786202315639, 1.0159493920064187, 1.015139538043505, 0.9340118263582246, 1.0125786202315639, 1.0185274099745936, 1.015139538043505, 0.9311620801946358, 0.9213497959982053, 1.072318292114083, 1.0185274099745936, 1.0179826487498287, 1.0216174941255884, 1.0125786202315639, 0.9311620801946358, 0.9311620801946358, 1.0179826487498287, 1.0159493920064187, 0.9357300620195209, 1.0125786202315639, 1.0125786202315639, 0.9311620801946358, 0.20568094942214907, 0.8227237976885963, 1.0125786202315639, 0.3462227180796225, 0.692445436159245, 1.0193426806540373, 0.9764664076125237, 1.015139538043505, 1.0125786202315639, 1.0229166157712737, 1.0125786202315639, 1.072318292114083, 1.0246829086046962, 1.0159493920064187, 0.9311620801946358, 0.9340118263582246, 0.3588097425656532, 0.6279170494898931, 1.0125786202315639, 1.0185274099745936, 0.9970307535420436, 0.9340118263582246, 1.0185274099745936, 0.9340118263582246, 1.021937970627837, 0.9311620801946358, 1.015139538043505, 0.9377015172484521, 1.0185274099745936, 1.015139538043505, 1.0193426806540373, 0.7681529887920819, 0.19203824719802048, 1.0700624297354917, 0.9311620801946358, 1.0179826487498287, 1.0159493920064187, 1.0185274099745936, 0.9340118263582246, 1.0236518305700308, 1.015139538043505, 1.0125786202315639, 1.0700624297354917, 0.9691728047981446, 1.072318292114083, 1.0738274919344781, 1.0125786202315639, 1.0700624297354917, 0.9567575888857345, 1.072318292114083, 0.9949956162418048, 0.12906202229967859, 0.9034341560977501, 1.015139538043505, 1.023248587038079, 0.9340118263582246, 0.9340118263582246, 1.0193426806540373, 1.0185274099745936, 1.015139538043505, 0.9377015172484521, 0.9377015172484521, 0.9311620801946358, 0.9377015172484521, 1.0125786202315639, 1.0258638298402936, 1.0246829086046962, 1.0205710091524487, 1.0229166157712737, 1.0073330883140925, 1.0125786202315639, 0.9311620801946358, 0.7033533648210721, 0.35167668241053607, 0.6418955757422143, 0.32094778787110717, 0.9311620801946358, 1.015139538043505, 1.0125786202315639, 0.9311620801946358, 1.0185274099745936, 1.0229166157712737, 1.0700624297354917, 1.0700624297354917, 1.0663236774684137, 1.072318292114083, 0.9357300620195209, 1.0179826487498287, 1.0229166157712737, 1.015139538043505, 0.9357300620195209, 1.0230224328215953, 1.0663236774684137, 1.0210478394294018, 1.0663236774684137, 1.0185274099745936, 1.0125786202315639, 0.9412549791734781, 0.9357300620195209, 0.936879068902933, 1.0159493920064187, 0.9340118263582246, 0.9357300620195209, 1.0738274919344781, 1.0125786202315639, 1.072318292114083, 1.0193426806540373, 0.9213497959982053, 0.9691728047981446, 0.9311620801946358, 0.9340118263582246, 0.9691728047981446, 1.0663236774684137, 1.0663236774684137, 1.072318292114083, 0.9567575888857345, 1.0011513516640274, 0.9340118263582246, 0.9311620801946358, 1.021937970627837, 1.0700624297354917, 1.0159493920064187, 1.0258638298402936, 1.023248587038079], \"Term\": [\"access\", \"access\", \"account\", \"admit\", \"affirm\", \"age\", \"aggregate\", \"agree\", \"akshar\", \"appeal\", \"argue\", \"attorney\", \"authenticate\", \"base\", \"case\", \"charge\", \"child\", \"claim\", \"clear\", \"comment\", \"communication\", \"complaintant\", \"computer\", \"conduct\", \"consent\", \"contact\", \"contend\", \"convict\", \"convict\", \"conviction\", \"counsel\", \"counsel\", \"count\", \"court\", \"create\", \"crime\", \"criminal\", \"daughter\", \"degree\", \"deny\", \"discretion\", \"dismiss\", \"employee\", \"evidence\", \"evidence\", \"examine\", \"exhibit\", \"facebook\", \"faculty\", \"fail\", \"family\", \"find\", \"follow\", \"footage\", \"friend\", \"gang\", \"girl\", \"give\", \"grant\", \"grant\", \"guilt\", \"gun\", \"hearing\", \"history\", \"identification\", \"impose\", \"include\", \"instruction\", \"introduce\", \"judgement\", \"juror\", \"jury\", \"law\", \"level\", \"life\", \"make\", \"medium\", \"message\", \"motion\", \"motion\", \"murder\", \"myspace\", \"nursing\", \"obtain\", \"offender\", \"officer\", \"oral\", \"order\", \"page\", \"part\", \"people\", \"permit\", \"photo\", \"photograph\", \"police\", \"possession\", \"post\", \"posting\", \"postrelease\", \"present\", \"present\", \"prison\", \"prison\", \"probation\", \"prosecutor\", \"provide\", \"public\", \"question\", \"record\", \"regard\", \"relationship\", \"remote\", \"report\", \"request\", \"reverse\", \"search\", \"seize\", \"send\", \"sentence\", \"set\", \"sex\", \"sexual\", \"show\", \"site\", \"social\", \"specific\", \"staff\", \"statement\", \"stipulation\", \"student\", \"sufficient\", \"supervision\", \"support\", \"term\", \"testify\", \"testimony\", \"threaten\", \"time\", \"trial\", \"twitter\", \"uploaded\", \"verdict\", \"victim\", \"video\", \"violate\", \"violation\", \"warrant\", \"website\", \"weight\", \"witness\", \"year\"]}, \"R\": 30, \"lambda.step\": 0.01, \"plot.opts\": {\"xlab\": \"PC1\", \"ylab\": \"PC2\"}, \"topic.order\": [2, 3, 1, 4]};\n",
       "\n",
       "function LDAvis_load_lib(url, callback){\n",
       "  var s = document.createElement('script');\n",
       "  s.src = url;\n",
       "  s.async = true;\n",
       "  s.onreadystatechange = s.onload = callback;\n",
       "  s.onerror = function(){console.warn(\"failed to load library \" + url);};\n",
       "  document.getElementsByTagName(\"head\")[0].appendChild(s);\n",
       "}\n",
       "\n",
       "if(typeof(LDAvis) !== \"undefined\"){\n",
       "   // already loaded: just create the visualization\n",
       "   !function(LDAvis){\n",
       "       new LDAvis(\"#\" + \"ldavis_el83461122136299524499215935\", ldavis_el83461122136299524499215935_data);\n",
       "   }(LDAvis);\n",
       "}else if(typeof define === \"function\" && define.amd){\n",
       "   // require.js is available: use it to load d3/LDAvis\n",
       "   require.config({paths: {d3: \"https://cdnjs.cloudflare.com/ajax/libs/d3/3.5.5/d3.min\"}});\n",
       "   require([\"d3\"], function(d3){\n",
       "      window.d3 = d3;\n",
       "      LDAvis_load_lib(\"https://cdn.rawgit.com/bmabey/pyLDAvis/files/ldavis.v1.0.0.js\", function(){\n",
       "        new LDAvis(\"#\" + \"ldavis_el83461122136299524499215935\", ldavis_el83461122136299524499215935_data);\n",
       "      });\n",
       "    });\n",
       "}else{\n",
       "    // require.js not available: dynamically load d3 & LDAvis\n",
       "    LDAvis_load_lib(\"https://cdnjs.cloudflare.com/ajax/libs/d3/3.5.5/d3.min.js\", function(){\n",
       "         LDAvis_load_lib(\"https://cdn.rawgit.com/bmabey/pyLDAvis/files/ldavis.v1.0.0.js\", function(){\n",
       "                 new LDAvis(\"#\" + \"ldavis_el83461122136299524499215935\", ldavis_el83461122136299524499215935_data);\n",
       "            })\n",
       "         });\n",
       "}\n",
       "</script>"
      ],
      "text/plain": [
       "<IPython.core.display.HTML object>"
      ]
     },
     "execution_count": 11,
     "metadata": {},
     "output_type": "execute_result"
    }
   ],
   "source": [
    "state_file = optimal_model.fstate()\n",
    "print(state_file)\n",
    "from process_pyldaviz import get_pyldaviz\n",
    "lda_prop = get_pyldaviz(state_file)\n",
    "vis_data = pyLDAvis.prepare(**lda_prop)\n",
    "pyLDAvis.display(vis_data)"
   ]
  },
  {
   "cell_type": "markdown",
   "metadata": {},
   "source": [
    "## Dominant topic in each of the cases"
   ]
  },
  {
   "cell_type": "code",
   "execution_count": 12,
   "metadata": {
    "collapsed": false
   },
   "outputs": [],
   "source": [
    "data = [' '.join(doc) for doc in docs_words]\n",
    "\n",
    "def format_topics_sentences(ldamodel, corpus=corpus, texts=data):\n",
    "    # Init output\n",
    "    sent_topics_df = pd.DataFrame()\n",
    "\n",
    "    # Get main topic in each document\n",
    "    for i, row in enumerate(ldamodel[corpus]):\n",
    "        row = sorted(row, key=lambda x: (x[1]), reverse=True)\n",
    "        # Get the Dominant topic, Perc Contribution and Keywords for each document\n",
    "        for j, (topic_num, prop_topic) in enumerate(row):\n",
    "            if j == 0:  # => dominant topic\n",
    "                wp = ldamodel.show_topic(topic_num)\n",
    "                topic_keywords = \", \".join([word for word, prop in wp])\n",
    "                sent_topics_df = sent_topics_df.append(pd.Series([int(topic_num), round(prop_topic,4), topic_keywords]), ignore_index=True)\n",
    "            else:\n",
    "                break\n",
    "    sent_topics_df.columns = ['Dominant_Topic', 'Perc_Contribution', 'Topic_Keywords']\n",
    "\n",
    "    # Add original text to the end of the output\n",
    "    contents = pd.Series(texts)\n",
    "    sent_topics_df = pd.concat([sent_topics_df, contents], axis=1)\n",
    "    return(sent_topics_df)\n",
    "\n",
    "\n",
    "df_topic_sents_keywords = format_topics_sentences(ldamodel=optimal_model, corpus=corpus, texts=data)\n",
    "\n",
    "# Format\n",
    "df_dominant_topic = df_topic_sents_keywords.reset_index()\n",
    "df_dominant_topic.columns = ['Document_No', 'Dominant_Topic', 'Topic_Perc_Contrib', 'Keywords', 'Text']\n",
    "\n",
    "# Show\n",
    "# df_dominant_topic.head(10)"
   ]
  },
  {
   "cell_type": "code",
   "execution_count": 13,
   "metadata": {
    "collapsed": false
   },
   "outputs": [
    {
     "data": {
      "text/html": [
       "<div>\n",
       "<style scoped>\n",
       "    .dataframe tbody tr th:only-of-type {\n",
       "        vertical-align: middle;\n",
       "    }\n",
       "\n",
       "    .dataframe tbody tr th {\n",
       "        vertical-align: top;\n",
       "    }\n",
       "\n",
       "    .dataframe thead th {\n",
       "        text-align: right;\n",
       "    }\n",
       "</style>\n",
       "<table border=\"1\" class=\"dataframe\">\n",
       "  <thead>\n",
       "    <tr style=\"text-align: right;\">\n",
       "      <th></th>\n",
       "      <th>Case Name</th>\n",
       "      <th>Dominant_Topic</th>\n",
       "      <th>Topic_Perc_Contrib</th>\n",
       "      <th>Text</th>\n",
       "      <th>Keywords</th>\n",
       "    </tr>\n",
       "  </thead>\n",
       "  <tbody>\n",
       "    <tr>\n",
       "      <th>6</th>\n",
       "      <td>St. Paul's Sch. of Nursing, Inc. v. Papaspirid...</td>\n",
       "      <td>1.0</td>\n",
       "      <td>0.7496</td>\n",
       "      <td>since facebook serves to allow interaction thr...</td>\n",
       "      <td>facebook, post, page, friend, order, people, s...</td>\n",
       "    </tr>\n",
       "    <tr>\n",
       "      <th>3</th>\n",
       "      <td>People v Jackson</td>\n",
       "      <td>2.0</td>\n",
       "      <td>0.5507</td>\n",
       "      <td>based on the facts and circumstances of this c...</td>\n",
       "      <td>court, video, message, evidence, testimony, tr...</td>\n",
       "    </tr>\n",
       "    <tr>\n",
       "      <th>4</th>\n",
       "      <td>People v Santiago</td>\n",
       "      <td>0.0</td>\n",
       "      <td>0.4431</td>\n",
       "      <td>based upon evidence adduced at the hearing inc...</td>\n",
       "      <td>evidence, witness, motion, photo, photograph, ...</td>\n",
       "    </tr>\n",
       "    <tr>\n",
       "      <th>7</th>\n",
       "      <td>United States v. Farrad</td>\n",
       "      <td>0.0</td>\n",
       "      <td>0.4215</td>\n",
       "      <td>no physical evidence witness claims or defenda...</td>\n",
       "      <td>evidence, witness, motion, photo, photograph, ...</td>\n",
       "    </tr>\n",
       "    <tr>\n",
       "      <th>29</th>\n",
       "      <td>People v McEvoy</td>\n",
       "      <td>3.0</td>\n",
       "      <td>0.4148</td>\n",
       "      <td>his exhibits of the complaintant facebook prof...</td>\n",
       "      <td>myspace, year, sentence, account, claim, sex, ...</td>\n",
       "    </tr>\n",
       "  </tbody>\n",
       "</table>\n",
       "</div>"
      ],
      "text/plain": [
       "                                            Case Name  Dominant_Topic  \\\n",
       "6   St. Paul's Sch. of Nursing, Inc. v. Papaspirid...             1.0   \n",
       "3                                    People v Jackson             2.0   \n",
       "4                                   People v Santiago             0.0   \n",
       "7                             United States v. Farrad             0.0   \n",
       "29                                    People v McEvoy             3.0   \n",
       "\n",
       "    Topic_Perc_Contrib                                               Text  \\\n",
       "6               0.7496  since facebook serves to allow interaction thr...   \n",
       "3               0.5507  based on the facts and circumstances of this c...   \n",
       "4               0.4431  based upon evidence adduced at the hearing inc...   \n",
       "7               0.4215  no physical evidence witness claims or defenda...   \n",
       "29              0.4148  his exhibits of the complaintant facebook prof...   \n",
       "\n",
       "                                             Keywords  \n",
       "6   facebook, post, page, friend, order, people, s...  \n",
       "3   court, video, message, evidence, testimony, tr...  \n",
       "4   evidence, witness, motion, photo, photograph, ...  \n",
       "7   evidence, witness, motion, photo, photograph, ...  \n",
       "29  myspace, year, sentence, account, claim, sex, ...  "
      ]
     },
     "execution_count": 13,
     "metadata": {},
     "output_type": "execute_result"
    }
   ],
   "source": [
    "df_dominant_topic['Case Name'] = list(df.dropna(subset=['all_text']).index)\n",
    "df_dominant_topic.sort_values(by=['Topic_Perc_Contrib'], ascending=False)[['Case Name','Dominant_Topic','Topic_Perc_Contrib','Text','Keywords']].head(5)"
   ]
  },
  {
   "cell_type": "code",
   "execution_count": 14,
   "metadata": {
    "collapsed": false
   },
   "outputs": [
    {
     "data": {
      "text/plain": [
       "<matplotlib.axes._subplots.AxesSubplot at 0x1a1e0f6550>"
      ]
     },
     "execution_count": 14,
     "metadata": {},
     "output_type": "execute_result"
    },
    {
     "data": {
      "image/png": "[encoded data removed]",
      "text/plain": [
       "<Figure size 432x288 with 1 Axes>"
      ]
     },
     "metadata": {},
     "output_type": "display_data"
    }
   ],
   "source": [
    "df_dominant_topic.Dominant_Topic.value_counts().plot(kind='bar')"
   ]
  },
  {
   "cell_type": "code",
   "execution_count": 15,
   "metadata": {
    "collapsed": false
   },
   "outputs": [
    {
     "data": {
      "text/plain": [
       "(array([12.,  6.,  8.,  2.,  0.,  1.,  0.,  0.,  0.,  1.]),\n",
       " array([27.85 , 32.561, 37.272, 41.983, 46.694, 51.405, 56.116, 60.827,\n",
       "        65.538, 70.249, 74.96 ]),\n",
       " <a list of 10 Patch objects>)"
      ]
     },
     "execution_count": 15,
     "metadata": {},
     "output_type": "execute_result"
    },
    {
     "data": {
      "image/png": "[encoded data removed]",
      "text/plain": [
       "<Figure size 432x288 with 1 Axes>"
      ]
     },
     "metadata": {},
     "output_type": "display_data"
    }
   ],
   "source": [
    "plt.hist(df_dominant_topic['Topic_Perc_Contrib']*100)"
   ]
  },
  {
   "cell_type": "code",
   "execution_count": 16,
   "metadata": {
    "collapsed": false
   },
   "outputs": [
    {
     "data": {
      "text/plain": [
       "Dominant_Topic\n",
       "0.0            [Photographs, Friends, Messaging (inbox)]\n",
       "1.0    [Various activities i.e., friend requests;post...\n",
       "2.0    [Posts, Video, Messaging (inbox), Exploring th...\n",
       "3.0    [Messaging , Posts, Messaging (inbox), Unspeci...\n",
       "Name: Evidence Type, dtype: object"
      ]
     },
     "execution_count": 16,
     "metadata": {},
     "output_type": "execute_result"
    }
   ],
   "source": [
    "a=pd.merge(df_dominant_topic, df[['Platform','Evidence Type','Offence']].reset_index(), on = 'Case Name').groupby('Dominant_Topic')['Evidence Type'].unique()\n",
    "a"
   ]
  },
  {
   "cell_type": "code",
   "execution_count": 17,
   "metadata": {
    "collapsed": false
   },
   "outputs": [
    {
     "data": {
      "text/plain": [
       "array(['Various activities i.e., friend requests;posts',\n",
       "       'Posts;video;photographs'], dtype=object)"
      ]
     },
     "execution_count": 17,
     "metadata": {},
     "output_type": "execute_result"
    }
   ],
   "source": [
    "a[1]"
   ]
  },
  {
   "cell_type": "markdown",
   "metadata": {},
   "source": [
    "## Most representative document for each topic"
   ]
  },
  {
   "cell_type": "code",
   "execution_count": 18,
   "metadata": {
    "collapsed": false
   },
   "outputs": [
    {
     "data": {
      "text/html": [
       "<div>\n",
       "<style scoped>\n",
       "    .dataframe tbody tr th:only-of-type {\n",
       "        vertical-align: middle;\n",
       "    }\n",
       "\n",
       "    .dataframe tbody tr th {\n",
       "        vertical-align: top;\n",
       "    }\n",
       "\n",
       "    .dataframe thead th {\n",
       "        text-align: right;\n",
       "    }\n",
       "</style>\n",
       "<table border=\"1\" class=\"dataframe\">\n",
       "  <thead>\n",
       "    <tr style=\"text-align: right;\">\n",
       "      <th></th>\n",
       "      <th>Topic_Num</th>\n",
       "      <th>Topic_Perc_Contrib</th>\n",
       "      <th>Case Name</th>\n",
       "      <th>Keywords</th>\n",
       "      <th>Text</th>\n",
       "    </tr>\n",
       "  </thead>\n",
       "  <tbody>\n",
       "    <tr>\n",
       "      <th>0</th>\n",
       "      <td>0.0</td>\n",
       "      <td>0.4431</td>\n",
       "      <td>People v Santiago</td>\n",
       "      <td>evidence, witness, motion, photo, photograph, ...</td>\n",
       "      <td>based upon evidence adduced at the hearing inc...</td>\n",
       "    </tr>\n",
       "    <tr>\n",
       "      <th>1</th>\n",
       "      <td>1.0</td>\n",
       "      <td>0.7496</td>\n",
       "      <td>St. Paul's Sch. of Nursing, Inc. v. Papaspirid...</td>\n",
       "      <td>facebook, post, page, friend, order, people, s...</td>\n",
       "      <td>since facebook serves to allow interaction thr...</td>\n",
       "    </tr>\n",
       "    <tr>\n",
       "      <th>2</th>\n",
       "      <td>2.0</td>\n",
       "      <td>0.5507</td>\n",
       "      <td>People v Jackson</td>\n",
       "      <td>court, video, message, evidence, testimony, tr...</td>\n",
       "      <td>based on the facts and circumstances of this c...</td>\n",
       "    </tr>\n",
       "    <tr>\n",
       "      <th>3</th>\n",
       "      <td>3.0</td>\n",
       "      <td>0.4148</td>\n",
       "      <td>People v McEvoy</td>\n",
       "      <td>myspace, year, sentence, account, claim, sex, ...</td>\n",
       "      <td>his exhibits of the complaintant facebook prof...</td>\n",
       "    </tr>\n",
       "  </tbody>\n",
       "</table>\n",
       "</div>"
      ],
      "text/plain": [
       "   Topic_Num  Topic_Perc_Contrib  \\\n",
       "0        0.0              0.4431   \n",
       "1        1.0              0.7496   \n",
       "2        2.0              0.5507   \n",
       "3        3.0              0.4148   \n",
       "\n",
       "                                           Case Name  \\\n",
       "0                                  People v Santiago   \n",
       "1  St. Paul's Sch. of Nursing, Inc. v. Papaspirid...   \n",
       "2                                   People v Jackson   \n",
       "3                                    People v McEvoy   \n",
       "\n",
       "                                            Keywords  \\\n",
       "0  evidence, witness, motion, photo, photograph, ...   \n",
       "1  facebook, post, page, friend, order, people, s...   \n",
       "2  court, video, message, evidence, testimony, tr...   \n",
       "3  myspace, year, sentence, account, claim, sex, ...   \n",
       "\n",
       "                                                Text  \n",
       "0  based upon evidence adduced at the hearing inc...  \n",
       "1  since facebook serves to allow interaction thr...  \n",
       "2  based on the facts and circumstances of this c...  \n",
       "3  his exhibits of the complaintant facebook prof...  "
      ]
     },
     "execution_count": 18,
     "metadata": {},
     "output_type": "execute_result"
    }
   ],
   "source": [
    "# Group top 5 sentences under each topic\n",
    "\n",
    "df_topic_sents_keywords['Case Name'] = list(df.dropna(subset=['all_text']).index)\n",
    "\n",
    "sent_topics_sorteddf_mallet = pd.DataFrame()\n",
    "\n",
    "sent_topics_outdf_grpd = df_topic_sents_keywords.groupby('Dominant_Topic')\n",
    "\n",
    "for i, grp in sent_topics_outdf_grpd:\n",
    "    sent_topics_sorteddf_mallet = pd.concat([sent_topics_sorteddf_mallet, \n",
    "                                             grp.sort_values(['Perc_Contribution'], ascending=[0]).head(1)], \n",
    "                                            axis=0)\n",
    "\n",
    "# Reset Index    \n",
    "sent_topics_sorteddf_mallet.reset_index(drop=True, inplace=True)\n",
    "\n",
    "# Format\n",
    "sent_topics_sorteddf_mallet.columns = ['Topic_Num', \"Topic_Perc_Contrib\", \"Keywords\", \"Text\",'Case Name']\n",
    "\n",
    "# Show\n",
    "sent_topics_sorteddf_mallet[['Topic_Num',\"Topic_Perc_Contrib\",'Case Name',\"Keywords\", \"Text\"]]#.head()"
   ]
  },
  {
   "cell_type": "markdown",
   "metadata": {},
   "source": [
    "## Topic distribution across documents"
   ]
  },
  {
   "cell_type": "code",
   "execution_count": 54,
   "metadata": {
    "collapsed": false
   },
   "outputs": [
    {
     "data": {
      "text/html": [
       "<div>\n",
       "<style scoped>\n",
       "    .dataframe tbody tr th:only-of-type {\n",
       "        vertical-align: middle;\n",
       "    }\n",
       "\n",
       "    .dataframe tbody tr th {\n",
       "        vertical-align: top;\n",
       "    }\n",
       "\n",
       "    .dataframe thead th {\n",
       "        text-align: right;\n",
       "    }\n",
       "</style>\n",
       "<table border=\"1\" class=\"dataframe\">\n",
       "  <thead>\n",
       "    <tr style=\"text-align: right;\">\n",
       "      <th></th>\n",
       "      <th>Dominant_Topic</th>\n",
       "      <th>Topic_Keywords</th>\n",
       "      <th>Num_Documents</th>\n",
       "      <th>Perc_Documents</th>\n",
       "    </tr>\n",
       "  </thead>\n",
       "  <tbody>\n",
       "    <tr>\n",
       "      <th>0</th>\n",
       "      <td>0.0</td>\n",
       "      <td>year, sentence, message, victim, sex, people, ...</td>\n",
       "      <td>8</td>\n",
       "      <td>0.2667</td>\n",
       "    </tr>\n",
       "    <tr>\n",
       "      <th>1</th>\n",
       "      <td>1.0</td>\n",
       "      <td>video, juror, social, include, base, law, supp...</td>\n",
       "      <td>8</td>\n",
       "      <td>0.2667</td>\n",
       "    </tr>\n",
       "    <tr>\n",
       "      <th>2</th>\n",
       "      <td>2.0</td>\n",
       "      <td>evidence, court, motion, witness, trial, photo...</td>\n",
       "      <td>5</td>\n",
       "      <td>0.1667</td>\n",
       "    </tr>\n",
       "    <tr>\n",
       "      <th>3</th>\n",
       "      <td>3.0</td>\n",
       "      <td>photo, myspace, account, testimony, claim, tes...</td>\n",
       "      <td>7</td>\n",
       "      <td>0.2333</td>\n",
       "    </tr>\n",
       "    <tr>\n",
       "      <th>4</th>\n",
       "      <td>4.0</td>\n",
       "      <td>facebook, post, make, order, page, friend, cou...</td>\n",
       "      <td>2</td>\n",
       "      <td>0.0667</td>\n",
       "    </tr>\n",
       "  </tbody>\n",
       "</table>\n",
       "</div>"
      ],
      "text/plain": [
       "   Dominant_Topic                                     Topic_Keywords  \\\n",
       "0             0.0  year, sentence, message, victim, sex, people, ...   \n",
       "1             1.0  video, juror, social, include, base, law, supp...   \n",
       "2             2.0  evidence, court, motion, witness, trial, photo...   \n",
       "3             3.0  photo, myspace, account, testimony, claim, tes...   \n",
       "4             4.0  facebook, post, make, order, page, friend, cou...   \n",
       "\n",
       "   Num_Documents  Perc_Documents  \n",
       "0              8          0.2667  \n",
       "1              8          0.2667  \n",
       "2              5          0.1667  \n",
       "3              7          0.2333  \n",
       "4              2          0.0667  "
      ]
     },
     "execution_count": 54,
     "metadata": {},
     "output_type": "execute_result"
    }
   ],
   "source": [
    "# Number of Documents for Each Topic\n",
    "topic_counts = df_topic_sents_keywords['Dominant_Topic'].value_counts()\n",
    "\n",
    "# Percentage of Documents for Each Topic\n",
    "topic_contribution = round(topic_counts/topic_counts.sum(), 4)\n",
    "\n",
    "# Topic Number and Keywords\n",
    "topic_num_keywords = sent_topics_sorteddf_mallet[['Topic_Num', 'Keywords']]\n",
    "\n",
    "# Concatenate Column wise\n",
    "df_topics = pd.concat([topic_num_keywords, topic_counts, topic_contribution], axis=1)\n",
    "\n",
    "# Change Column names\n",
    "df_topics.columns = ['Dominant_Topic', 'Topic_Keywords', 'Num_Documents', 'Perc_Documents']\n",
    "\n",
    "# Show\n",
    "df_topics"
   ]
  }
 ],
 "metadata": {
  "kernelspec": {
   "display_name": "Python 3",
   "language": "python",
   "name": "python3"
  },
  "language_info": {
   "codemirror_mode": {
    "name": "ipython",
    "version": 3
   },
   "file_extension": ".py",
   "mimetype": "text/x-python",
   "name": "python",
   "nbconvert_exporter": "python",
   "pygments_lexer": "ipython3",
   "version": "3.6.5"
  }
 },
 "nbformat": 4,
 "nbformat_minor": 2
}
